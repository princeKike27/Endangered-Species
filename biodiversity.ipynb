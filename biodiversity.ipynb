{
  "nbformat": 4,
  "nbformat_minor": 0,
  "metadata": {
    "kernelspec": {
      "display_name": "Python 3",
      "language": "python",
      "name": "python3"
    },
    "language_info": {
      "codemirror_mode": {
        "name": "ipython",
        "version": 3
      },
      "file_extension": ".py",
      "mimetype": "text/x-python",
      "name": "python",
      "nbconvert_exporter": "python",
      "pygments_lexer": "ipython3",
      "version": "3.7.6"
    },
    "colab": {
      "name": "biodiversity.ipynb",
      "provenance": [],
      "collapsed_sections": [],
      "include_colab_link": true
    }
  },
  "cells": [
    {
      "cell_type": "markdown",
      "metadata": {
        "id": "view-in-github",
        "colab_type": "text"
      },
      "source": [
        "<a href=\"https://colab.research.google.com/github/princeKike27/Endangered-Species-in-US-National-Parks/blob/main/biodiversity.ipynb\" target=\"_parent\"><img src=\"https://colab.research.google.com/assets/colab-badge.svg\" alt=\"Open In Colab\"/></a>"
      ]
    },
    {
      "cell_type": "markdown",
      "metadata": {
        "id": "cMvwnlZhazn8"
      },
      "source": [
        "# Endangered Species in US National Parks\n",
        "\n",
        "For this project I will analyze data from the National Parks Service about endangered species in different parks. In that sense, I will identify if there are any patterns in the types of species that become endangered. "
      ]
    },
    {
      "cell_type": "code",
      "metadata": {
        "id": "KEhX3jDQcMTr"
      },
      "source": [
        "# import modules\n",
        "\n",
        "import pandas as pd\n",
        "import numpy as np\n",
        "import matplotlib.pyplot as plt\n",
        "import seaborn as sns"
      ],
      "execution_count": 1,
      "outputs": []
    },
    {
      "cell_type": "markdown",
      "metadata": {
        "id": "-PspEniqjp2N"
      },
      "source": [
        "# Observations DataSet"
      ]
    },
    {
      "cell_type": "code",
      "metadata": {
        "colab": {
          "base_uri": "https://localhost:8080/",
          "height": 206
        },
        "id": "o8fmVH-PeJNS",
        "outputId": "d4a60b2b-10b6-4a02-e3c8-0df0296f55d8"
      },
      "source": [
        "# load observation dataset\n",
        "df_observations = pd.read_csv('https://raw.githubusercontent.com/princeKike27/Endangered-Species-in-US-National-Parks/main/observations.csv')\n",
        "df_observations.head()\n"
      ],
      "execution_count": 2,
      "outputs": [
        {
          "output_type": "execute_result",
          "data": {
            "text/html": [
              "<div>\n",
              "<style scoped>\n",
              "    .dataframe tbody tr th:only-of-type {\n",
              "        vertical-align: middle;\n",
              "    }\n",
              "\n",
              "    .dataframe tbody tr th {\n",
              "        vertical-align: top;\n",
              "    }\n",
              "\n",
              "    .dataframe thead th {\n",
              "        text-align: right;\n",
              "    }\n",
              "</style>\n",
              "<table border=\"1\" class=\"dataframe\">\n",
              "  <thead>\n",
              "    <tr style=\"text-align: right;\">\n",
              "      <th></th>\n",
              "      <th>scientific_name</th>\n",
              "      <th>park_name</th>\n",
              "      <th>observations</th>\n",
              "    </tr>\n",
              "  </thead>\n",
              "  <tbody>\n",
              "    <tr>\n",
              "      <th>0</th>\n",
              "      <td>Vicia benghalensis</td>\n",
              "      <td>Great Smoky Mountains National Park</td>\n",
              "      <td>68</td>\n",
              "    </tr>\n",
              "    <tr>\n",
              "      <th>1</th>\n",
              "      <td>Neovison vison</td>\n",
              "      <td>Great Smoky Mountains National Park</td>\n",
              "      <td>77</td>\n",
              "    </tr>\n",
              "    <tr>\n",
              "      <th>2</th>\n",
              "      <td>Prunus subcordata</td>\n",
              "      <td>Yosemite National Park</td>\n",
              "      <td>138</td>\n",
              "    </tr>\n",
              "    <tr>\n",
              "      <th>3</th>\n",
              "      <td>Abutilon theophrasti</td>\n",
              "      <td>Bryce National Park</td>\n",
              "      <td>84</td>\n",
              "    </tr>\n",
              "    <tr>\n",
              "      <th>4</th>\n",
              "      <td>Githopsis specularioides</td>\n",
              "      <td>Great Smoky Mountains National Park</td>\n",
              "      <td>85</td>\n",
              "    </tr>\n",
              "  </tbody>\n",
              "</table>\n",
              "</div>"
            ],
            "text/plain": [
              "            scientific_name                            park_name  observations\n",
              "0        Vicia benghalensis  Great Smoky Mountains National Park            68\n",
              "1            Neovison vison  Great Smoky Mountains National Park            77\n",
              "2         Prunus subcordata               Yosemite National Park           138\n",
              "3      Abutilon theophrasti                  Bryce National Park            84\n",
              "4  Githopsis specularioides  Great Smoky Mountains National Park            85"
            ]
          },
          "metadata": {
            "tags": []
          },
          "execution_count": 2
        }
      ]
    },
    {
      "cell_type": "code",
      "metadata": {
        "colab": {
          "base_uri": "https://localhost:8080/"
        },
        "id": "LAIrKfVsixJB",
        "outputId": "2d6429e8-dbc2-49c4-f7fd-e7859e7374eb"
      },
      "source": [
        "# df shape\n",
        "df_observations.shape"
      ],
      "execution_count": 3,
      "outputs": [
        {
          "output_type": "execute_result",
          "data": {
            "text/plain": [
              "(23296, 3)"
            ]
          },
          "metadata": {
            "tags": []
          },
          "execution_count": 3
        }
      ]
    },
    {
      "cell_type": "code",
      "metadata": {
        "colab": {
          "base_uri": "https://localhost:8080/"
        },
        "id": "Eyq0zRb5hxCm",
        "outputId": "9dca078f-b77c-4bef-84c5-b9792387a823"
      },
      "source": [
        "# check column types\n",
        "df_observations.dtypes"
      ],
      "execution_count": 4,
      "outputs": [
        {
          "output_type": "execute_result",
          "data": {
            "text/plain": [
              "scientific_name    object\n",
              "park_name          object\n",
              "observations        int64\n",
              "dtype: object"
            ]
          },
          "metadata": {
            "tags": []
          },
          "execution_count": 4
        }
      ]
    },
    {
      "cell_type": "code",
      "metadata": {
        "colab": {
          "base_uri": "https://localhost:8080/",
          "height": 300
        },
        "id": "S-EfWYJVoMrw",
        "outputId": "b6e61911-9bfa-4283-f3c8-266354e92b1b"
      },
      "source": [
        "# descriptive statistics of observations column\n",
        "df_observations.describe()"
      ],
      "execution_count": 5,
      "outputs": [
        {
          "output_type": "execute_result",
          "data": {
            "text/html": [
              "<div>\n",
              "<style scoped>\n",
              "    .dataframe tbody tr th:only-of-type {\n",
              "        vertical-align: middle;\n",
              "    }\n",
              "\n",
              "    .dataframe tbody tr th {\n",
              "        vertical-align: top;\n",
              "    }\n",
              "\n",
              "    .dataframe thead th {\n",
              "        text-align: right;\n",
              "    }\n",
              "</style>\n",
              "<table border=\"1\" class=\"dataframe\">\n",
              "  <thead>\n",
              "    <tr style=\"text-align: right;\">\n",
              "      <th></th>\n",
              "      <th>observations</th>\n",
              "    </tr>\n",
              "  </thead>\n",
              "  <tbody>\n",
              "    <tr>\n",
              "      <th>count</th>\n",
              "      <td>23296.000000</td>\n",
              "    </tr>\n",
              "    <tr>\n",
              "      <th>mean</th>\n",
              "      <td>142.287904</td>\n",
              "    </tr>\n",
              "    <tr>\n",
              "      <th>std</th>\n",
              "      <td>69.890532</td>\n",
              "    </tr>\n",
              "    <tr>\n",
              "      <th>min</th>\n",
              "      <td>9.000000</td>\n",
              "    </tr>\n",
              "    <tr>\n",
              "      <th>25%</th>\n",
              "      <td>86.000000</td>\n",
              "    </tr>\n",
              "    <tr>\n",
              "      <th>50%</th>\n",
              "      <td>124.000000</td>\n",
              "    </tr>\n",
              "    <tr>\n",
              "      <th>75%</th>\n",
              "      <td>195.000000</td>\n",
              "    </tr>\n",
              "    <tr>\n",
              "      <th>max</th>\n",
              "      <td>321.000000</td>\n",
              "    </tr>\n",
              "  </tbody>\n",
              "</table>\n",
              "</div>"
            ],
            "text/plain": [
              "       observations\n",
              "count  23296.000000\n",
              "mean     142.287904\n",
              "std       69.890532\n",
              "min        9.000000\n",
              "25%       86.000000\n",
              "50%      124.000000\n",
              "75%      195.000000\n",
              "max      321.000000"
            ]
          },
          "metadata": {
            "tags": []
          },
          "execution_count": 5
        }
      ]
    },
    {
      "cell_type": "code",
      "metadata": {
        "colab": {
          "base_uri": "https://localhost:8080/",
          "height": 509
        },
        "id": "1cwxW0Z_h4BR",
        "outputId": "385732e9-2a93-4ed6-a06d-cdb9a0396c9e"
      },
      "source": [
        "# check for missing values\n",
        "import missingno as msg\n",
        "\n",
        "msg.matrix(df_observations, figsize=(30,10))"
      ],
      "execution_count": 6,
      "outputs": [
        {
          "output_type": "execute_result",
          "data": {
            "text/plain": [
              "<matplotlib.axes._subplots.AxesSubplot at 0x7f9673fe7e50>"
            ]
          },
          "metadata": {
            "tags": []
          },
          "execution_count": 6
        },
        {
          "output_type": "display_data",
          "data": {
            "image/png": "[encoded data removed]",
            "text/plain": [
              "<Figure size 2160x720 with 2 Axes>"
            ]
          },
          "metadata": {
            "tags": [],
            "needs_background": "light"
          }
        }
      ]
    },
    {
      "cell_type": "code",
      "metadata": {
        "colab": {
          "base_uri": "https://localhost:8080/"
        },
        "id": "gLDig4POiRW4",
        "outputId": "f58646df-c7ce-4ab4-c644-a2461d381192"
      },
      "source": [
        "# check unique values of park_name\n",
        "parks = list(df_observations['park_name'].unique())\n",
        "parks"
      ],
      "execution_count": 7,
      "outputs": [
        {
          "output_type": "execute_result",
          "data": {
            "text/plain": [
              "['Great Smoky Mountains National Park',\n",
              " 'Yosemite National Park',\n",
              " 'Bryce National Park',\n",
              " 'Yellowstone National Park']"
            ]
          },
          "metadata": {
            "tags": []
          },
          "execution_count": 7
        }
      ]
    },
    {
      "cell_type": "code",
      "metadata": {
        "colab": {
          "base_uri": "https://localhost:8080/"
        },
        "id": "wtumN8lXijJn",
        "outputId": "62479be5-2464-4bc2-e39c-a05df2acd3e3"
      },
      "source": [
        "# check unique values of scientific_name\n",
        "print(df_observations['scientific_name'].unique())\n",
        "print(f\"Unique Species: {len(df_observations['scientific_name'].unique())}\")"
      ],
      "execution_count": 8,
      "outputs": [
        {
          "output_type": "stream",
          "text": [
            "['Vicia benghalensis' 'Neovison vison' 'Prunus subcordata' ...\n",
            " 'Ranunculus hebecarpus' 'Gulo gulo' 'Dichanthelium depauperatum']\n",
            "Unique Species: 5541\n"
          ],
          "name": "stdout"
        }
      ]
    },
    {
      "cell_type": "code",
      "metadata": {
        "colab": {
          "base_uri": "https://localhost:8080/",
          "height": 1000
        },
        "id": "FqPUypU2kCGJ",
        "outputId": "45fcdb5a-840e-476a-b21e-dbb4843d44f7"
      },
      "source": [
        "# Histogram of Observations per National Park\n",
        "\n",
        "# variable to store plot counter\n",
        "n = 1\n",
        "\n",
        "fig = plt.figure(figsize=(25, 16))\n",
        "\n",
        "# plot histograms\n",
        "for el in parks:\n",
        "  ax = plt.subplot(2, 2, n)\n",
        "  # store information of park\n",
        "  df_park = df_observations[df_observations['park_name'] == el]\n",
        "\n",
        "  plt.hist(df_park['observations'], bins=15, alpha=0.5)\n",
        "  plt.axvline(df_park['observations'].mean(), linestyle='dashed', linewidth=2, color='red', label='Mean')\n",
        "  plt.axvline(df_park['observations'].median(), linestyle='dashed', linewidth=2, color='green', label='Median')\n",
        "\n",
        "  plt.legend()\n",
        "  plt.title(f'Species Observations in {el}', fontsize=14, pad=12)\n",
        "  n += 1\n",
        "  print(f\"Mean of Species Observation in {el}: {np.round(df_park['observations'].mean(), 2)}\")\n",
        "  print(f\"Median of Species Observation in {el}: {df_park['observations'].median()}\", '\\n')\n",
        "\n",
        "plt.show()\n",
        "\n",
        "  \n"
      ],
      "execution_count": 9,
      "outputs": [
        {
          "output_type": "stream",
          "text": [
            "Mean of Species Observation in Great Smoky Mountains National Park: 74.14\n",
            "Median of Species Observation in Great Smoky Mountains National Park: 74.0 \n",
            "\n",
            "Mean of Species Observation in Yosemite National Park: 148.24\n",
            "Median of Species Observation in Yosemite National Park: 149.0 \n",
            "\n",
            "Mean of Species Observation in Bryce National Park: 98.91\n",
            "Median of Species Observation in Bryce National Park: 99.0 \n",
            "\n",
            "Mean of Species Observation in Yellowstone National Park: 247.86\n",
            "Median of Species Observation in Yellowstone National Park: 249.0 \n",
            "\n"
          ],
          "name": "stdout"
        },
        {
          "output_type": "display_data",
          "data": {
            "image/png": "[encoded data removed]",
            "text/plain": [
              "<Figure size 1800x1152 with 4 Axes>"
            ]
          },
          "metadata": {
            "tags": [],
            "needs_background": "light"
          }
        }
      ]
    },
    {
      "cell_type": "markdown",
      "metadata": {
        "id": "VI_NBRedjtmU"
      },
      "source": [
        "# Species_Info Dataset"
      ]
    },
    {
      "cell_type": "code",
      "metadata": {
        "colab": {
          "base_uri": "https://localhost:8080/",
          "height": 363
        },
        "id": "Oml9dgmYfAWx",
        "outputId": "c639fab1-a2b9-49b4-9c8f-197d9464b370"
      },
      "source": [
        "# load specie_info dataset\n",
        "df_species_info = pd.read_csv('https://raw.githubusercontent.com/princeKike27/Endangered-Species-in-US-National-Parks/main/species_info.csv')\n",
        "df_species_info.head(10)"
      ],
      "execution_count": 10,
      "outputs": [
        {
          "output_type": "execute_result",
          "data": {
            "text/html": [
              "<div>\n",
              "<style scoped>\n",
              "    .dataframe tbody tr th:only-of-type {\n",
              "        vertical-align: middle;\n",
              "    }\n",
              "\n",
              "    .dataframe tbody tr th {\n",
              "        vertical-align: top;\n",
              "    }\n",
              "\n",
              "    .dataframe thead th {\n",
              "        text-align: right;\n",
              "    }\n",
              "</style>\n",
              "<table border=\"1\" class=\"dataframe\">\n",
              "  <thead>\n",
              "    <tr style=\"text-align: right;\">\n",
              "      <th></th>\n",
              "      <th>category</th>\n",
              "      <th>scientific_name</th>\n",
              "      <th>common_names</th>\n",
              "      <th>conservation_status</th>\n",
              "    </tr>\n",
              "  </thead>\n",
              "  <tbody>\n",
              "    <tr>\n",
              "      <th>0</th>\n",
              "      <td>Mammal</td>\n",
              "      <td>Clethrionomys gapperi gapperi</td>\n",
              "      <td>Gapper's Red-Backed Vole</td>\n",
              "      <td>NaN</td>\n",
              "    </tr>\n",
              "    <tr>\n",
              "      <th>1</th>\n",
              "      <td>Mammal</td>\n",
              "      <td>Bos bison</td>\n",
              "      <td>American Bison, Bison</td>\n",
              "      <td>NaN</td>\n",
              "    </tr>\n",
              "    <tr>\n",
              "      <th>2</th>\n",
              "      <td>Mammal</td>\n",
              "      <td>Bos taurus</td>\n",
              "      <td>Aurochs, Aurochs, Domestic Cattle (Feral), Dom...</td>\n",
              "      <td>NaN</td>\n",
              "    </tr>\n",
              "    <tr>\n",
              "      <th>3</th>\n",
              "      <td>Mammal</td>\n",
              "      <td>Ovis aries</td>\n",
              "      <td>Domestic Sheep, Mouflon, Red Sheep, Sheep (Feral)</td>\n",
              "      <td>NaN</td>\n",
              "    </tr>\n",
              "    <tr>\n",
              "      <th>4</th>\n",
              "      <td>Mammal</td>\n",
              "      <td>Cervus elaphus</td>\n",
              "      <td>Wapiti Or Elk</td>\n",
              "      <td>NaN</td>\n",
              "    </tr>\n",
              "    <tr>\n",
              "      <th>5</th>\n",
              "      <td>Mammal</td>\n",
              "      <td>Odocoileus virginianus</td>\n",
              "      <td>White-Tailed Deer</td>\n",
              "      <td>NaN</td>\n",
              "    </tr>\n",
              "    <tr>\n",
              "      <th>6</th>\n",
              "      <td>Mammal</td>\n",
              "      <td>Sus scrofa</td>\n",
              "      <td>Feral Hog, Wild Pig</td>\n",
              "      <td>NaN</td>\n",
              "    </tr>\n",
              "    <tr>\n",
              "      <th>7</th>\n",
              "      <td>Mammal</td>\n",
              "      <td>Canis latrans</td>\n",
              "      <td>Coyote</td>\n",
              "      <td>Species of Concern</td>\n",
              "    </tr>\n",
              "    <tr>\n",
              "      <th>8</th>\n",
              "      <td>Mammal</td>\n",
              "      <td>Canis lupus</td>\n",
              "      <td>Gray Wolf</td>\n",
              "      <td>Endangered</td>\n",
              "    </tr>\n",
              "    <tr>\n",
              "      <th>9</th>\n",
              "      <td>Mammal</td>\n",
              "      <td>Canis rufus</td>\n",
              "      <td>Red Wolf</td>\n",
              "      <td>Endangered</td>\n",
              "    </tr>\n",
              "  </tbody>\n",
              "</table>\n",
              "</div>"
            ],
            "text/plain": [
              "  category  ... conservation_status\n",
              "0   Mammal  ...                 NaN\n",
              "1   Mammal  ...                 NaN\n",
              "2   Mammal  ...                 NaN\n",
              "3   Mammal  ...                 NaN\n",
              "4   Mammal  ...                 NaN\n",
              "5   Mammal  ...                 NaN\n",
              "6   Mammal  ...                 NaN\n",
              "7   Mammal  ...  Species of Concern\n",
              "8   Mammal  ...          Endangered\n",
              "9   Mammal  ...          Endangered\n",
              "\n",
              "[10 rows x 4 columns]"
            ]
          },
          "metadata": {
            "tags": []
          },
          "execution_count": 10
        }
      ]
    },
    {
      "cell_type": "code",
      "metadata": {
        "colab": {
          "base_uri": "https://localhost:8080/"
        },
        "id": "kniA6_7qqlI2",
        "outputId": "e3c5986f-a2f5-42b9-e7c1-dabf96b61ad1"
      },
      "source": [
        "# shape of data\n",
        "df_species_info.shape"
      ],
      "execution_count": 11,
      "outputs": [
        {
          "output_type": "execute_result",
          "data": {
            "text/plain": [
              "(5824, 4)"
            ]
          },
          "metadata": {
            "tags": []
          },
          "execution_count": 11
        }
      ]
    },
    {
      "cell_type": "code",
      "metadata": {
        "colab": {
          "base_uri": "https://localhost:8080/"
        },
        "id": "3X4gMy4viRkm",
        "outputId": "32c07e3b-bbc8-4fe5-df3a-3d59c4412af7"
      },
      "source": [
        "# check column types\n",
        "df_species_info.dtypes"
      ],
      "execution_count": 12,
      "outputs": [
        {
          "output_type": "execute_result",
          "data": {
            "text/plain": [
              "category               object\n",
              "scientific_name        object\n",
              "common_names           object\n",
              "conservation_status    object\n",
              "dtype: object"
            ]
          },
          "metadata": {
            "tags": []
          },
          "execution_count": 12
        }
      ]
    },
    {
      "cell_type": "code",
      "metadata": {
        "colab": {
          "base_uri": "https://localhost:8080/",
          "height": 530
        },
        "id": "GSEALYvjino7",
        "outputId": "a0eb97fb-fbbb-4668-8a75-026c8be96c2f"
      },
      "source": [
        "# check missing values\n",
        "\n",
        "msg.matrix(df_species_info, figsize=(30,10))\n"
      ],
      "execution_count": 13,
      "outputs": [
        {
          "output_type": "execute_result",
          "data": {
            "text/plain": [
              "<matplotlib.axes._subplots.AxesSubplot at 0x7f966b6d5690>"
            ]
          },
          "metadata": {
            "tags": []
          },
          "execution_count": 13
        },
        {
          "output_type": "display_data",
          "data": {
            "image/png": "[encoded data removed]",
            "text/plain": [
              "<Figure size 2160x720 with 2 Axes>"
            ]
          },
          "metadata": {
            "tags": [],
            "needs_background": "light"
          }
        }
      ]
    },
    {
      "cell_type": "code",
      "metadata": {
        "colab": {
          "base_uri": "https://localhost:8080/"
        },
        "id": "iZ-4t1nJj3nw",
        "outputId": "4a8422a7-790b-4f3b-b4f0-f84d9c83edf4"
      },
      "source": [
        "# check unique values of conservation_status\n",
        "df_species_info.conservation_status.unique()"
      ],
      "execution_count": 14,
      "outputs": [
        {
          "output_type": "execute_result",
          "data": {
            "text/plain": [
              "array([nan, 'Species of Concern', 'Endangered', 'Threatened',\n",
              "       'In Recovery'], dtype=object)"
            ]
          },
          "metadata": {
            "tags": []
          },
          "execution_count": 14
        }
      ]
    },
    {
      "cell_type": "code",
      "metadata": {
        "id": "r_8WxELEkbLE"
      },
      "source": [
        "# change nan values for 'No Data'\n",
        "df_species_info['conservation_status'].fillna('No Intervention', inplace=True)"
      ],
      "execution_count": 15,
      "outputs": []
    },
    {
      "cell_type": "code",
      "metadata": {
        "colab": {
          "base_uri": "https://localhost:8080/"
        },
        "id": "4EyMbKYTk80u",
        "outputId": "b24cf8c2-a26b-464c-9e1b-33687323d038"
      },
      "source": [
        "# check unique values of conservation_status\n",
        "df_species_info.conservation_status.unique()"
      ],
      "execution_count": 16,
      "outputs": [
        {
          "output_type": "execute_result",
          "data": {
            "text/plain": [
              "array(['No Intervention', 'Species of Concern', 'Endangered',\n",
              "       'Threatened', 'In Recovery'], dtype=object)"
            ]
          },
          "metadata": {
            "tags": []
          },
          "execution_count": 16
        }
      ]
    },
    {
      "cell_type": "code",
      "metadata": {
        "colab": {
          "base_uri": "https://localhost:8080/"
        },
        "id": "OcHBtfa6pORW",
        "outputId": "6611cc69-59a6-4380-cece-1b2311b85a45"
      },
      "source": [
        "# group by conservation status\n",
        "df_species_info.groupby(['conservation_status']).size()\n"
      ],
      "execution_count": 17,
      "outputs": [
        {
          "output_type": "execute_result",
          "data": {
            "text/plain": [
              "conservation_status\n",
              "Endangered              16\n",
              "In Recovery              4\n",
              "No Intervention       5633\n",
              "Species of Concern     161\n",
              "Threatened              10\n",
              "dtype: int64"
            ]
          },
          "metadata": {
            "tags": []
          },
          "execution_count": 17
        }
      ]
    },
    {
      "cell_type": "code",
      "metadata": {
        "colab": {
          "base_uri": "https://localhost:8080/",
          "height": 410
        },
        "id": "E3NEppTBox5j",
        "outputId": "a5321fcb-3f84-4137-b659-5a2d60f165c8"
      },
      "source": [
        "# count plot of conservation status\n",
        "df_conservation_status = df_species_info[df_species_info['conservation_status'] != 'No Intervention']\n",
        "\n",
        "f, ax = plt.subplots(figsize=(12, 6))\n",
        "\n",
        "sns.countplot(x='conservation_status', data=df_conservation_status)\n",
        "\n",
        "plt.xlabel('Conservation Status')\n",
        "plt.ylabel('Number of Species')\n",
        "plt.title('Count of Species by Conservation Status', pad=12)\n",
        "plt.show()"
      ],
      "execution_count": 18,
      "outputs": [
        {
          "output_type": "display_data",
          "data": {
            "image/png": "[encoded data removed]",
            "text/plain": [
              "<Figure size 864x432 with 1 Axes>"
            ]
          },
          "metadata": {
            "tags": [],
            "needs_background": "light"
          }
        }
      ]
    },
    {
      "cell_type": "code",
      "metadata": {
        "colab": {
          "base_uri": "https://localhost:8080/"
        },
        "id": "20aOlIilWr-i",
        "outputId": "c7dc8148-1655-41de-f02e-68d696fd03ca"
      },
      "source": [
        "# group by category\n",
        "df_species_info.groupby(['category']).size()"
      ],
      "execution_count": 19,
      "outputs": [
        {
          "output_type": "execute_result",
          "data": {
            "text/plain": [
              "category\n",
              "Amphibian              80\n",
              "Bird                  521\n",
              "Fish                  127\n",
              "Mammal                214\n",
              "Nonvascular Plant     333\n",
              "Reptile                79\n",
              "Vascular Plant       4470\n",
              "dtype: int64"
            ]
          },
          "metadata": {
            "tags": []
          },
          "execution_count": 19
        }
      ]
    },
    {
      "cell_type": "code",
      "metadata": {
        "colab": {
          "base_uri": "https://localhost:8080/",
          "height": 206
        },
        "id": "K5srYVmzXYb3",
        "outputId": "314663e7-6d97-480c-bf1e-f785fe1a17b6"
      },
      "source": [
        "# conservations by category\n",
        "conservation_category = df_conservation_status.groupby(['conservation_status', 'category'])\\\n",
        "                        ['scientific_name'].count().unstack()\n",
        "\n",
        "conservation_category\n"
      ],
      "execution_count": 20,
      "outputs": [
        {
          "output_type": "execute_result",
          "data": {
            "text/html": [
              "<div>\n",
              "<style scoped>\n",
              "    .dataframe tbody tr th:only-of-type {\n",
              "        vertical-align: middle;\n",
              "    }\n",
              "\n",
              "    .dataframe tbody tr th {\n",
              "        vertical-align: top;\n",
              "    }\n",
              "\n",
              "    .dataframe thead th {\n",
              "        text-align: right;\n",
              "    }\n",
              "</style>\n",
              "<table border=\"1\" class=\"dataframe\">\n",
              "  <thead>\n",
              "    <tr style=\"text-align: right;\">\n",
              "      <th>category</th>\n",
              "      <th>Amphibian</th>\n",
              "      <th>Bird</th>\n",
              "      <th>Fish</th>\n",
              "      <th>Mammal</th>\n",
              "      <th>Nonvascular Plant</th>\n",
              "      <th>Reptile</th>\n",
              "      <th>Vascular Plant</th>\n",
              "    </tr>\n",
              "    <tr>\n",
              "      <th>conservation_status</th>\n",
              "      <th></th>\n",
              "      <th></th>\n",
              "      <th></th>\n",
              "      <th></th>\n",
              "      <th></th>\n",
              "      <th></th>\n",
              "      <th></th>\n",
              "    </tr>\n",
              "  </thead>\n",
              "  <tbody>\n",
              "    <tr>\n",
              "      <th>Endangered</th>\n",
              "      <td>1.0</td>\n",
              "      <td>4.0</td>\n",
              "      <td>3.0</td>\n",
              "      <td>7.0</td>\n",
              "      <td>NaN</td>\n",
              "      <td>NaN</td>\n",
              "      <td>1.0</td>\n",
              "    </tr>\n",
              "    <tr>\n",
              "      <th>In Recovery</th>\n",
              "      <td>NaN</td>\n",
              "      <td>3.0</td>\n",
              "      <td>NaN</td>\n",
              "      <td>1.0</td>\n",
              "      <td>NaN</td>\n",
              "      <td>NaN</td>\n",
              "      <td>NaN</td>\n",
              "    </tr>\n",
              "    <tr>\n",
              "      <th>Species of Concern</th>\n",
              "      <td>4.0</td>\n",
              "      <td>72.0</td>\n",
              "      <td>4.0</td>\n",
              "      <td>28.0</td>\n",
              "      <td>5.0</td>\n",
              "      <td>5.0</td>\n",
              "      <td>43.0</td>\n",
              "    </tr>\n",
              "    <tr>\n",
              "      <th>Threatened</th>\n",
              "      <td>2.0</td>\n",
              "      <td>NaN</td>\n",
              "      <td>4.0</td>\n",
              "      <td>2.0</td>\n",
              "      <td>NaN</td>\n",
              "      <td>NaN</td>\n",
              "      <td>2.0</td>\n",
              "    </tr>\n",
              "  </tbody>\n",
              "</table>\n",
              "</div>"
            ],
            "text/plain": [
              "category             Amphibian  Bird  ...  Reptile  Vascular Plant\n",
              "conservation_status                   ...                         \n",
              "Endangered                 1.0   4.0  ...      NaN             1.0\n",
              "In Recovery                NaN   3.0  ...      NaN             NaN\n",
              "Species of Concern         4.0  72.0  ...      5.0            43.0\n",
              "Threatened                 2.0   NaN  ...      NaN             2.0\n",
              "\n",
              "[4 rows x 7 columns]"
            ]
          },
          "metadata": {
            "tags": []
          },
          "execution_count": 20
        }
      ]
    },
    {
      "cell_type": "code",
      "metadata": {
        "colab": {
          "base_uri": "https://localhost:8080/",
          "height": 410
        },
        "id": "Z2hN7-vBY1on",
        "outputId": "bec319e5-5e5e-4ec6-9e56-8bbc09735303"
      },
      "source": [
        "# plot conservation by category\n",
        "\n",
        "ax = conservation_category.plot(kind='bar', stacked=True, figsize=(12, 6))\n",
        "\n",
        "plt.xticks(rotation=0)\n",
        "plt.xlabel('Conservation Status')\n",
        "plt.ylabel('Number of Species')\n",
        "plt.title('Count of Conservation Status by Category', pad=12)\n",
        "plt.show()"
      ],
      "execution_count": 21,
      "outputs": [
        {
          "output_type": "display_data",
          "data": {
            "image/png": "[encoded data removed]",
            "text/plain": [
              "<Figure size 864x432 with 1 Axes>"
            ]
          },
          "metadata": {
            "tags": [],
            "needs_background": "light"
          }
        }
      ]
    },
    {
      "cell_type": "markdown",
      "metadata": {
        "id": "7hPr3OXaarKK"
      },
      "source": [
        "# Are Certain Type of Species Most Likely to be Endangered?"
      ]
    },
    {
      "cell_type": "code",
      "metadata": {
        "colab": {
          "base_uri": "https://localhost:8080/",
          "height": 363
        },
        "id": "DLLdFi0_awbQ",
        "outputId": "f22c86b3-3769-4315-9e65-dffb3c0fc3c0"
      },
      "source": [
        "# create column is_protected in df\n",
        "df_species_info['is_protected'] = df_species_info.conservation_status != 'No Intervention'\n",
        "df_species_info.head(10)"
      ],
      "execution_count": 22,
      "outputs": [
        {
          "output_type": "execute_result",
          "data": {
            "text/html": [
              "<div>\n",
              "<style scoped>\n",
              "    .dataframe tbody tr th:only-of-type {\n",
              "        vertical-align: middle;\n",
              "    }\n",
              "\n",
              "    .dataframe tbody tr th {\n",
              "        vertical-align: top;\n",
              "    }\n",
              "\n",
              "    .dataframe thead th {\n",
              "        text-align: right;\n",
              "    }\n",
              "</style>\n",
              "<table border=\"1\" class=\"dataframe\">\n",
              "  <thead>\n",
              "    <tr style=\"text-align: right;\">\n",
              "      <th></th>\n",
              "      <th>category</th>\n",
              "      <th>scientific_name</th>\n",
              "      <th>common_names</th>\n",
              "      <th>conservation_status</th>\n",
              "      <th>is_protected</th>\n",
              "    </tr>\n",
              "  </thead>\n",
              "  <tbody>\n",
              "    <tr>\n",
              "      <th>0</th>\n",
              "      <td>Mammal</td>\n",
              "      <td>Clethrionomys gapperi gapperi</td>\n",
              "      <td>Gapper's Red-Backed Vole</td>\n",
              "      <td>No Intervention</td>\n",
              "      <td>False</td>\n",
              "    </tr>\n",
              "    <tr>\n",
              "      <th>1</th>\n",
              "      <td>Mammal</td>\n",
              "      <td>Bos bison</td>\n",
              "      <td>American Bison, Bison</td>\n",
              "      <td>No Intervention</td>\n",
              "      <td>False</td>\n",
              "    </tr>\n",
              "    <tr>\n",
              "      <th>2</th>\n",
              "      <td>Mammal</td>\n",
              "      <td>Bos taurus</td>\n",
              "      <td>Aurochs, Aurochs, Domestic Cattle (Feral), Dom...</td>\n",
              "      <td>No Intervention</td>\n",
              "      <td>False</td>\n",
              "    </tr>\n",
              "    <tr>\n",
              "      <th>3</th>\n",
              "      <td>Mammal</td>\n",
              "      <td>Ovis aries</td>\n",
              "      <td>Domestic Sheep, Mouflon, Red Sheep, Sheep (Feral)</td>\n",
              "      <td>No Intervention</td>\n",
              "      <td>False</td>\n",
              "    </tr>\n",
              "    <tr>\n",
              "      <th>4</th>\n",
              "      <td>Mammal</td>\n",
              "      <td>Cervus elaphus</td>\n",
              "      <td>Wapiti Or Elk</td>\n",
              "      <td>No Intervention</td>\n",
              "      <td>False</td>\n",
              "    </tr>\n",
              "    <tr>\n",
              "      <th>5</th>\n",
              "      <td>Mammal</td>\n",
              "      <td>Odocoileus virginianus</td>\n",
              "      <td>White-Tailed Deer</td>\n",
              "      <td>No Intervention</td>\n",
              "      <td>False</td>\n",
              "    </tr>\n",
              "    <tr>\n",
              "      <th>6</th>\n",
              "      <td>Mammal</td>\n",
              "      <td>Sus scrofa</td>\n",
              "      <td>Feral Hog, Wild Pig</td>\n",
              "      <td>No Intervention</td>\n",
              "      <td>False</td>\n",
              "    </tr>\n",
              "    <tr>\n",
              "      <th>7</th>\n",
              "      <td>Mammal</td>\n",
              "      <td>Canis latrans</td>\n",
              "      <td>Coyote</td>\n",
              "      <td>Species of Concern</td>\n",
              "      <td>True</td>\n",
              "    </tr>\n",
              "    <tr>\n",
              "      <th>8</th>\n",
              "      <td>Mammal</td>\n",
              "      <td>Canis lupus</td>\n",
              "      <td>Gray Wolf</td>\n",
              "      <td>Endangered</td>\n",
              "      <td>True</td>\n",
              "    </tr>\n",
              "    <tr>\n",
              "      <th>9</th>\n",
              "      <td>Mammal</td>\n",
              "      <td>Canis rufus</td>\n",
              "      <td>Red Wolf</td>\n",
              "      <td>Endangered</td>\n",
              "      <td>True</td>\n",
              "    </tr>\n",
              "  </tbody>\n",
              "</table>\n",
              "</div>"
            ],
            "text/plain": [
              "  category                scientific_name  ... conservation_status is_protected\n",
              "0   Mammal  Clethrionomys gapperi gapperi  ...     No Intervention        False\n",
              "1   Mammal                      Bos bison  ...     No Intervention        False\n",
              "2   Mammal                     Bos taurus  ...     No Intervention        False\n",
              "3   Mammal                     Ovis aries  ...     No Intervention        False\n",
              "4   Mammal                 Cervus elaphus  ...     No Intervention        False\n",
              "5   Mammal         Odocoileus virginianus  ...     No Intervention        False\n",
              "6   Mammal                     Sus scrofa  ...     No Intervention        False\n",
              "7   Mammal                  Canis latrans  ...  Species of Concern         True\n",
              "8   Mammal                    Canis lupus  ...          Endangered         True\n",
              "9   Mammal                    Canis rufus  ...          Endangered         True\n",
              "\n",
              "[10 rows x 5 columns]"
            ]
          },
          "metadata": {
            "tags": []
          },
          "execution_count": 22
        }
      ]
    },
    {
      "cell_type": "code",
      "metadata": {
        "colab": {
          "base_uri": "https://localhost:8080/",
          "height": 206
        },
        "id": "yVebOngJbjTQ",
        "outputId": "1faf1769-8805-422b-c791-edb04e766c40"
      },
      "source": [
        "# check to see number of protected species by category\n",
        "category_counts = df_species_info.groupby(['category', 'is_protected'])\\\n",
        "                  .scientific_name.nunique()\\\n",
        "                  .reset_index()\n",
        "\n",
        "category_counts.head()"
      ],
      "execution_count": 23,
      "outputs": [
        {
          "output_type": "execute_result",
          "data": {
            "text/html": [
              "<div>\n",
              "<style scoped>\n",
              "    .dataframe tbody tr th:only-of-type {\n",
              "        vertical-align: middle;\n",
              "    }\n",
              "\n",
              "    .dataframe tbody tr th {\n",
              "        vertical-align: top;\n",
              "    }\n",
              "\n",
              "    .dataframe thead th {\n",
              "        text-align: right;\n",
              "    }\n",
              "</style>\n",
              "<table border=\"1\" class=\"dataframe\">\n",
              "  <thead>\n",
              "    <tr style=\"text-align: right;\">\n",
              "      <th></th>\n",
              "      <th>category</th>\n",
              "      <th>is_protected</th>\n",
              "      <th>scientific_name</th>\n",
              "    </tr>\n",
              "  </thead>\n",
              "  <tbody>\n",
              "    <tr>\n",
              "      <th>0</th>\n",
              "      <td>Amphibian</td>\n",
              "      <td>False</td>\n",
              "      <td>72</td>\n",
              "    </tr>\n",
              "    <tr>\n",
              "      <th>1</th>\n",
              "      <td>Amphibian</td>\n",
              "      <td>True</td>\n",
              "      <td>7</td>\n",
              "    </tr>\n",
              "    <tr>\n",
              "      <th>2</th>\n",
              "      <td>Bird</td>\n",
              "      <td>False</td>\n",
              "      <td>413</td>\n",
              "    </tr>\n",
              "    <tr>\n",
              "      <th>3</th>\n",
              "      <td>Bird</td>\n",
              "      <td>True</td>\n",
              "      <td>75</td>\n",
              "    </tr>\n",
              "    <tr>\n",
              "      <th>4</th>\n",
              "      <td>Fish</td>\n",
              "      <td>False</td>\n",
              "      <td>115</td>\n",
              "    </tr>\n",
              "  </tbody>\n",
              "</table>\n",
              "</div>"
            ],
            "text/plain": [
              "    category  is_protected  scientific_name\n",
              "0  Amphibian         False               72\n",
              "1  Amphibian          True                7\n",
              "2       Bird         False              413\n",
              "3       Bird          True               75\n",
              "4       Fish         False              115"
            ]
          },
          "metadata": {
            "tags": []
          },
          "execution_count": 23
        }
      ]
    },
    {
      "cell_type": "code",
      "metadata": {
        "colab": {
          "base_uri": "https://localhost:8080/",
          "height": 269
        },
        "id": "cM90j4AucrWv",
        "outputId": "12c60daf-197a-4031-c520-f34883f52079"
      },
      "source": [
        "# pivot table\n",
        "category_counts = category_counts.pivot(\n",
        "    columns='is_protected',\n",
        "    index='category',\n",
        "    values='scientific_name').reset_index()\n",
        "\n",
        "# change column names\n",
        "category_counts.columns = ['category', 'not_protected', 'protected']\n",
        "\n",
        "category_counts\n"
      ],
      "execution_count": 24,
      "outputs": [
        {
          "output_type": "execute_result",
          "data": {
            "text/html": [
              "<div>\n",
              "<style scoped>\n",
              "    .dataframe tbody tr th:only-of-type {\n",
              "        vertical-align: middle;\n",
              "    }\n",
              "\n",
              "    .dataframe tbody tr th {\n",
              "        vertical-align: top;\n",
              "    }\n",
              "\n",
              "    .dataframe thead th {\n",
              "        text-align: right;\n",
              "    }\n",
              "</style>\n",
              "<table border=\"1\" class=\"dataframe\">\n",
              "  <thead>\n",
              "    <tr style=\"text-align: right;\">\n",
              "      <th></th>\n",
              "      <th>category</th>\n",
              "      <th>not_protected</th>\n",
              "      <th>protected</th>\n",
              "    </tr>\n",
              "  </thead>\n",
              "  <tbody>\n",
              "    <tr>\n",
              "      <th>0</th>\n",
              "      <td>Amphibian</td>\n",
              "      <td>72</td>\n",
              "      <td>7</td>\n",
              "    </tr>\n",
              "    <tr>\n",
              "      <th>1</th>\n",
              "      <td>Bird</td>\n",
              "      <td>413</td>\n",
              "      <td>75</td>\n",
              "    </tr>\n",
              "    <tr>\n",
              "      <th>2</th>\n",
              "      <td>Fish</td>\n",
              "      <td>115</td>\n",
              "      <td>11</td>\n",
              "    </tr>\n",
              "    <tr>\n",
              "      <th>3</th>\n",
              "      <td>Mammal</td>\n",
              "      <td>146</td>\n",
              "      <td>30</td>\n",
              "    </tr>\n",
              "    <tr>\n",
              "      <th>4</th>\n",
              "      <td>Nonvascular Plant</td>\n",
              "      <td>328</td>\n",
              "      <td>5</td>\n",
              "    </tr>\n",
              "    <tr>\n",
              "      <th>5</th>\n",
              "      <td>Reptile</td>\n",
              "      <td>73</td>\n",
              "      <td>5</td>\n",
              "    </tr>\n",
              "    <tr>\n",
              "      <th>6</th>\n",
              "      <td>Vascular Plant</td>\n",
              "      <td>4216</td>\n",
              "      <td>46</td>\n",
              "    </tr>\n",
              "  </tbody>\n",
              "</table>\n",
              "</div>"
            ],
            "text/plain": [
              "            category  not_protected  protected\n",
              "0          Amphibian             72          7\n",
              "1               Bird            413         75\n",
              "2               Fish            115         11\n",
              "3             Mammal            146         30\n",
              "4  Nonvascular Plant            328          5\n",
              "5            Reptile             73          5\n",
              "6     Vascular Plant           4216         46"
            ]
          },
          "metadata": {
            "tags": []
          },
          "execution_count": 24
        }
      ]
    },
    {
      "cell_type": "code",
      "metadata": {
        "colab": {
          "base_uri": "https://localhost:8080/",
          "height": 269
        },
        "id": "sGA_-YiTejix",
        "outputId": "8fcd8cb5-e39a-4dfe-dcba-095221475778"
      },
      "source": [
        "# calculate rate of protection for each category\n",
        "category_counts['%_protected'] = np.round(category_counts.protected / \\\n",
        "                                (category_counts.not_protected + category_counts.protected) * 100, 3)\n",
        "\n",
        "category_counts"
      ],
      "execution_count": 25,
      "outputs": [
        {
          "output_type": "execute_result",
          "data": {
            "text/html": [
              "<div>\n",
              "<style scoped>\n",
              "    .dataframe tbody tr th:only-of-type {\n",
              "        vertical-align: middle;\n",
              "    }\n",
              "\n",
              "    .dataframe tbody tr th {\n",
              "        vertical-align: top;\n",
              "    }\n",
              "\n",
              "    .dataframe thead th {\n",
              "        text-align: right;\n",
              "    }\n",
              "</style>\n",
              "<table border=\"1\" class=\"dataframe\">\n",
              "  <thead>\n",
              "    <tr style=\"text-align: right;\">\n",
              "      <th></th>\n",
              "      <th>category</th>\n",
              "      <th>not_protected</th>\n",
              "      <th>protected</th>\n",
              "      <th>%_protected</th>\n",
              "    </tr>\n",
              "  </thead>\n",
              "  <tbody>\n",
              "    <tr>\n",
              "      <th>0</th>\n",
              "      <td>Amphibian</td>\n",
              "      <td>72</td>\n",
              "      <td>7</td>\n",
              "      <td>8.861</td>\n",
              "    </tr>\n",
              "    <tr>\n",
              "      <th>1</th>\n",
              "      <td>Bird</td>\n",
              "      <td>413</td>\n",
              "      <td>75</td>\n",
              "      <td>15.369</td>\n",
              "    </tr>\n",
              "    <tr>\n",
              "      <th>2</th>\n",
              "      <td>Fish</td>\n",
              "      <td>115</td>\n",
              "      <td>11</td>\n",
              "      <td>8.730</td>\n",
              "    </tr>\n",
              "    <tr>\n",
              "      <th>3</th>\n",
              "      <td>Mammal</td>\n",
              "      <td>146</td>\n",
              "      <td>30</td>\n",
              "      <td>17.045</td>\n",
              "    </tr>\n",
              "    <tr>\n",
              "      <th>4</th>\n",
              "      <td>Nonvascular Plant</td>\n",
              "      <td>328</td>\n",
              "      <td>5</td>\n",
              "      <td>1.502</td>\n",
              "    </tr>\n",
              "    <tr>\n",
              "      <th>5</th>\n",
              "      <td>Reptile</td>\n",
              "      <td>73</td>\n",
              "      <td>5</td>\n",
              "      <td>6.410</td>\n",
              "    </tr>\n",
              "    <tr>\n",
              "      <th>6</th>\n",
              "      <td>Vascular Plant</td>\n",
              "      <td>4216</td>\n",
              "      <td>46</td>\n",
              "      <td>1.079</td>\n",
              "    </tr>\n",
              "  </tbody>\n",
              "</table>\n",
              "</div>"
            ],
            "text/plain": [
              "            category  not_protected  protected  %_protected\n",
              "0          Amphibian             72          7        8.861\n",
              "1               Bird            413         75       15.369\n",
              "2               Fish            115         11        8.730\n",
              "3             Mammal            146         30       17.045\n",
              "4  Nonvascular Plant            328          5        1.502\n",
              "5            Reptile             73          5        6.410\n",
              "6     Vascular Plant           4216         46        1.079"
            ]
          },
          "metadata": {
            "tags": []
          },
          "execution_count": 25
        }
      ]
    },
    {
      "cell_type": "markdown",
      "metadata": {
        "id": "hz7EcWWwgicO"
      },
      "source": [
        "# Statistical Significance\n",
        "\n",
        "- Chi-Square tests will be run to see if different species have statistically differences in conservation status rates.\n",
        "\n",
        "||protected|not protected|\n",
        "|-|-|-|\n",
        "|Mammal|?|?|\n",
        "|Bird|?|?|"
      ]
    },
    {
      "cell_type": "code",
      "metadata": {
        "id": "pN-5nSQFlQdR"
      },
      "source": [
        "# import chi-square package\n",
        "from scipy.stats import chi2_contingency\n"
      ],
      "execution_count": 26,
      "outputs": []
    },
    {
      "cell_type": "code",
      "metadata": {
        "colab": {
          "base_uri": "https://localhost:8080/"
        },
        "id": "939nSHR5g3IW",
        "outputId": "9e1c0b28-ec03-46c2-fce9-47b0c6407cfd"
      },
      "source": [
        "# Mammals & Birds\n",
        "\n",
        "contingency_1 = [[30, 146],\n",
        "                 [75, 413]]\n",
        "\n",
        "print('Ho >> No association between mammals and birds conservation rates')\n",
        "print('H1 >> There is an association between mammals and birds conservation rates', '\\n')\n",
        "\n",
        "chi2, pval, dof, expected = chi2_contingency(contingency_1)\n",
        "\n",
        "print('Expected value if there was No Association:')\n",
        "print(expected, '\\n')\n",
        "\n",
        "print(f'P-Value:{pval}')\n",
        "print('Significant Threshold: 0.05', '\\n')\n",
        "\n",
        "print('We can conclude with a 95% confidence that there is NO Association between mammals and birds conservation rates.')\n",
        "print('There is no statiscally significant difference between mammals and birds conservation rates.')"
      ],
      "execution_count": 27,
      "outputs": [
        {
          "output_type": "stream",
          "text": [
            "Ho >> No association between mammals and birds conservation rates\n",
            "H1 >> There is an association between mammals and birds conservation rates \n",
            "\n",
            "Expected value if there was No Association:\n",
            "[[ 27.8313253 148.1686747]\n",
            " [ 77.1686747 410.8313253]] \n",
            "\n",
            "P-Value:0.6875948096661336\n",
            "Significant Threshold: 0.05 \n",
            "\n",
            "We can conclude with a 95% confidence that there is NO Association between mammals and birds conservation rates.\n",
            "There is no statiscally significant difference between mammals and birds conservation rates.\n"
          ],
          "name": "stdout"
        }
      ]
    },
    {
      "cell_type": "code",
      "metadata": {
        "colab": {
          "base_uri": "https://localhost:8080/"
        },
        "id": "XhD_CvuwnpVP",
        "outputId": "634eca6b-a639-458c-c368-49968cfc904e"
      },
      "source": [
        "# Mammals & Reptiles\n",
        "\n",
        "contingency_2 = [[30, 146],\n",
        "                 [5, 73]]\n",
        "\n",
        "print('Ho >> There is no association between mammals and reptiles conservation rates')\n",
        "print('H1 >> There is an association between mammals and reptiles conservation rates', '\\n')\n",
        "\n",
        "chi2, pval, dof, expected = chi2_contingency(contingency_2)\n",
        "\n",
        "print('Expected values if there was No Association')\n",
        "print(expected, '\\n')\n",
        "\n",
        "print(f'P-Value: {pval}')\n",
        "print('Significant Threshold: 0.05', '\\n')\n",
        "\n",
        "print('We can conclude with a 95% confidence that there IS an association between mammals and reptiles conservation rates.')\n",
        "print('Mammals are shown to have a statiscally significant higher rate of needed protection than reptiles.')"
      ],
      "execution_count": 28,
      "outputs": [
        {
          "output_type": "stream",
          "text": [
            "Ho >> There is no association between mammals and reptiles conservation rates\n",
            "H1 >> There is an association between mammals and reptiles conservation rates \n",
            "\n",
            "Expected values if there was No Association\n",
            "[[ 24.2519685 151.7480315]\n",
            " [ 10.7480315  67.2519685]] \n",
            "\n",
            "P-Value: 0.03835559022969898\n",
            "Significant Threshold: 0.05 \n",
            "\n",
            "We can conclude with a 95% confidence that there IS an association between mammals and reptiles conservation rates.\n",
            "Mammals are shown to have a statiscally significant higher rate of needed protection than reptiles.\n"
          ],
          "name": "stdout"
        }
      ]
    },
    {
      "cell_type": "markdown",
      "metadata": {
        "id": "bQxnDH8d3Ok_"
      },
      "source": [
        "# Status of Conservation of a Given Specie per National Park"
      ]
    },
    {
      "cell_type": "code",
      "metadata": {
        "colab": {
          "base_uri": "https://localhost:8080/"
        },
        "id": "7vUw2m9D3LA6",
        "outputId": "50bb73be-1409-44ea-d4d5-898af03d6904"
      },
      "source": [
        "# look at the common names from df_species_info to see what are the most recurrent animals in the dataset\n",
        "\n",
        "# import modules\n",
        "from itertools import chain\n",
        "import string\n",
        "\n",
        "# function to remove punctuations \n",
        "def remove_punctuations(text):\n",
        "  for punctuation in string.punctuation:\n",
        "    text = text.replace(punctuation, '')\n",
        "  return text\n",
        "\n",
        "# apply remove_punctuations to common_names column\n",
        "recurrent_names = df_species_info[df_species_info.category == 'Mammal']\\\n",
        "                  .common_names.apply(remove_punctuations)\\\n",
        "                  .str.split().tolist()\n",
        "\n",
        "\n",
        "recurrent_names[:6]\n"
      ],
      "execution_count": 36,
      "outputs": [
        {
          "output_type": "execute_result",
          "data": {
            "text/plain": [
              "[['Gappers', 'RedBacked', 'Vole'],\n",
              " ['American', 'Bison', 'Bison'],\n",
              " ['Aurochs',\n",
              "  'Aurochs',\n",
              "  'Domestic',\n",
              "  'Cattle',\n",
              "  'Feral',\n",
              "  'Domesticated',\n",
              "  'Cattle'],\n",
              " ['Domestic', 'Sheep', 'Mouflon', 'Red', 'Sheep', 'Sheep', 'Feral'],\n",
              " ['Wapiti', 'Or', 'Elk'],\n",
              " ['WhiteTailed', 'Deer']]"
            ]
          },
          "metadata": {
            "tags": []
          },
          "execution_count": 36
        }
      ]
    },
    {
      "cell_type": "code",
      "metadata": {
        "colab": {
          "base_uri": "https://localhost:8080/"
        },
        "id": "S-ueSJVw6vGR",
        "outputId": "5e3e282a-704e-45c7-8fd1-055126c126ba"
      },
      "source": [
        "# clean duplicate words in each row >> they should not be counted more than once per species\n",
        "clean_names = []\n",
        "\n",
        "for el in recurrent_names:\n",
        "  el = list(dict.fromkeys(el))\n",
        "  clean_names.append(el)\n",
        "\n",
        "clean_names[:6]"
      ],
      "execution_count": 37,
      "outputs": [
        {
          "output_type": "execute_result",
          "data": {
            "text/plain": [
              "[['Gappers', 'RedBacked', 'Vole'],\n",
              " ['American', 'Bison'],\n",
              " ['Aurochs', 'Domestic', 'Cattle', 'Feral', 'Domesticated'],\n",
              " ['Domestic', 'Sheep', 'Mouflon', 'Red', 'Feral'],\n",
              " ['Wapiti', 'Or', 'Elk'],\n",
              " ['WhiteTailed', 'Deer']]"
            ]
          },
          "metadata": {
            "tags": []
          },
          "execution_count": 37
        }
      ]
    },
    {
      "cell_type": "code",
      "metadata": {
        "colab": {
          "base_uri": "https://localhost:8080/"
        },
        "id": "vGIcsqej9SKh",
        "outputId": "99a9cd0b-7b35-4e4f-8a3b-2aee78b55688"
      },
      "source": [
        "# put all words into a single list\n",
        "names_list = list(chain.from_iterable(i if isinstance(i, list) else [i] for i in clean_names))\n",
        "\n",
        "names_list[:6]"
      ],
      "execution_count": 38,
      "outputs": [
        {
          "output_type": "execute_result",
          "data": {
            "text/plain": [
              "['Gappers', 'RedBacked', 'Vole', 'American', 'Bison', 'Aurochs']"
            ]
          },
          "metadata": {
            "tags": []
          },
          "execution_count": 38
        }
      ]
    },
    {
      "cell_type": "code",
      "metadata": {
        "colab": {
          "base_uri": "https://localhost:8080/"
        },
        "id": "kLeaT-Ha959u",
        "outputId": "5de0e699-6222-4478-a597-6203b5858309"
      },
      "source": [
        "# count number of occurences of each word\n",
        "words_counted = []\n",
        "\n",
        "for el in names_list:\n",
        "  # count number of times the el appears on names_list\n",
        "  x = names_list.count(el)\n",
        "  words_counted.append((el, x))\n",
        "\n",
        "words_counted[:6]"
      ],
      "execution_count": 40,
      "outputs": [
        {
          "output_type": "execute_result",
          "data": {
            "text/plain": [
              "[('Gappers', 1),\n",
              " ('RedBacked', 2),\n",
              " ('Vole', 11),\n",
              " ('American', 12),\n",
              " ('Bison', 2),\n",
              " ('Aurochs', 1)]"
            ]
          },
          "metadata": {
            "tags": []
          },
          "execution_count": 40
        }
      ]
    },
    {
      "cell_type": "code",
      "metadata": {
        "colab": {
          "base_uri": "https://localhost:8080/",
          "height": 363
        },
        "id": "TB95fVtk-q7q",
        "outputId": "d0260537-670f-4104-c743-f1c430e3717c"
      },
      "source": [
        "# turn words_counted to DF\n",
        "pd.DataFrame(set(words_counted), columns=['Word', 'Count']).sort_values('Count', ascending=False).head(10)"
      ],
      "execution_count": 48,
      "outputs": [
        {
          "output_type": "execute_result",
          "data": {
            "text/html": [
              "<div>\n",
              "<style scoped>\n",
              "    .dataframe tbody tr th:only-of-type {\n",
              "        vertical-align: middle;\n",
              "    }\n",
              "\n",
              "    .dataframe tbody tr th {\n",
              "        vertical-align: top;\n",
              "    }\n",
              "\n",
              "    .dataframe thead th {\n",
              "        text-align: right;\n",
              "    }\n",
              "</style>\n",
              "<table border=\"1\" class=\"dataframe\">\n",
              "  <thead>\n",
              "    <tr style=\"text-align: right;\">\n",
              "      <th></th>\n",
              "      <th>Word</th>\n",
              "      <th>Count</th>\n",
              "    </tr>\n",
              "  </thead>\n",
              "  <tbody>\n",
              "    <tr>\n",
              "      <th>46</th>\n",
              "      <td>Bat</td>\n",
              "      <td>23</td>\n",
              "    </tr>\n",
              "    <tr>\n",
              "      <th>171</th>\n",
              "      <td>Shrew</td>\n",
              "      <td>18</td>\n",
              "    </tr>\n",
              "    <tr>\n",
              "      <th>177</th>\n",
              "      <td>Myotis</td>\n",
              "      <td>17</td>\n",
              "    </tr>\n",
              "    <tr>\n",
              "      <th>83</th>\n",
              "      <td>Mouse</td>\n",
              "      <td>16</td>\n",
              "    </tr>\n",
              "    <tr>\n",
              "      <th>200</th>\n",
              "      <td>Chipmunk</td>\n",
              "      <td>13</td>\n",
              "    </tr>\n",
              "    <tr>\n",
              "      <th>15</th>\n",
              "      <td>Squirrel</td>\n",
              "      <td>12</td>\n",
              "    </tr>\n",
              "    <tr>\n",
              "      <th>7</th>\n",
              "      <td>American</td>\n",
              "      <td>12</td>\n",
              "    </tr>\n",
              "    <tr>\n",
              "      <th>88</th>\n",
              "      <td>Eastern</td>\n",
              "      <td>11</td>\n",
              "    </tr>\n",
              "    <tr>\n",
              "      <th>190</th>\n",
              "      <td>Vole</td>\n",
              "      <td>11</td>\n",
              "    </tr>\n",
              "    <tr>\n",
              "      <th>122</th>\n",
              "      <td>Mountain</td>\n",
              "      <td>10</td>\n",
              "    </tr>\n",
              "  </tbody>\n",
              "</table>\n",
              "</div>"
            ],
            "text/plain": [
              "         Word  Count\n",
              "46        Bat     23\n",
              "171     Shrew     18\n",
              "177    Myotis     17\n",
              "83      Mouse     16\n",
              "200  Chipmunk     13\n",
              "15   Squirrel     12\n",
              "7    American     12\n",
              "88    Eastern     11\n",
              "190      Vole     11\n",
              "122  Mountain     10"
            ]
          },
          "metadata": {
            "tags": []
          },
          "execution_count": 48
        }
      ]
    },
    {
      "cell_type": "code",
      "metadata": {
        "colab": {
          "base_uri": "https://localhost:8080/",
          "height": 206
        },
        "id": "srAg9x90AI6v",
        "outputId": "0f21dea2-4458-46c0-cc82-051791a38227"
      },
      "source": [
        "# Bat is the animal that is more recurrent in the dataset\n",
        "# since there are different types of bats >> create new column to check if the animal is a bat\n",
        "\n",
        "df_species_info['is_bat'] = df_species_info.common_names.str.contains(r\"\\bBat\\b\", regex=True)\n",
        "df_species_info.head()\n"
      ],
      "execution_count": 51,
      "outputs": [
        {
          "output_type": "execute_result",
          "data": {
            "text/html": [
              "<div>\n",
              "<style scoped>\n",
              "    .dataframe tbody tr th:only-of-type {\n",
              "        vertical-align: middle;\n",
              "    }\n",
              "\n",
              "    .dataframe tbody tr th {\n",
              "        vertical-align: top;\n",
              "    }\n",
              "\n",
              "    .dataframe thead th {\n",
              "        text-align: right;\n",
              "    }\n",
              "</style>\n",
              "<table border=\"1\" class=\"dataframe\">\n",
              "  <thead>\n",
              "    <tr style=\"text-align: right;\">\n",
              "      <th></th>\n",
              "      <th>category</th>\n",
              "      <th>scientific_name</th>\n",
              "      <th>common_names</th>\n",
              "      <th>conservation_status</th>\n",
              "      <th>is_protected</th>\n",
              "      <th>is_bat</th>\n",
              "    </tr>\n",
              "  </thead>\n",
              "  <tbody>\n",
              "    <tr>\n",
              "      <th>0</th>\n",
              "      <td>Mammal</td>\n",
              "      <td>Clethrionomys gapperi gapperi</td>\n",
              "      <td>Gapper's Red-Backed Vole</td>\n",
              "      <td>No Intervention</td>\n",
              "      <td>False</td>\n",
              "      <td>False</td>\n",
              "    </tr>\n",
              "    <tr>\n",
              "      <th>1</th>\n",
              "      <td>Mammal</td>\n",
              "      <td>Bos bison</td>\n",
              "      <td>American Bison, Bison</td>\n",
              "      <td>No Intervention</td>\n",
              "      <td>False</td>\n",
              "      <td>False</td>\n",
              "    </tr>\n",
              "    <tr>\n",
              "      <th>2</th>\n",
              "      <td>Mammal</td>\n",
              "      <td>Bos taurus</td>\n",
              "      <td>Aurochs, Aurochs, Domestic Cattle (Feral), Dom...</td>\n",
              "      <td>No Intervention</td>\n",
              "      <td>False</td>\n",
              "      <td>False</td>\n",
              "    </tr>\n",
              "    <tr>\n",
              "      <th>3</th>\n",
              "      <td>Mammal</td>\n",
              "      <td>Ovis aries</td>\n",
              "      <td>Domestic Sheep, Mouflon, Red Sheep, Sheep (Feral)</td>\n",
              "      <td>No Intervention</td>\n",
              "      <td>False</td>\n",
              "      <td>False</td>\n",
              "    </tr>\n",
              "    <tr>\n",
              "      <th>4</th>\n",
              "      <td>Mammal</td>\n",
              "      <td>Cervus elaphus</td>\n",
              "      <td>Wapiti Or Elk</td>\n",
              "      <td>No Intervention</td>\n",
              "      <td>False</td>\n",
              "      <td>False</td>\n",
              "    </tr>\n",
              "  </tbody>\n",
              "</table>\n",
              "</div>"
            ],
            "text/plain": [
              "  category                scientific_name  ... is_protected is_bat\n",
              "0   Mammal  Clethrionomys gapperi gapperi  ...        False  False\n",
              "1   Mammal                      Bos bison  ...        False  False\n",
              "2   Mammal                     Bos taurus  ...        False  False\n",
              "3   Mammal                     Ovis aries  ...        False  False\n",
              "4   Mammal                 Cervus elaphus  ...        False  False\n",
              "\n",
              "[5 rows x 6 columns]"
            ]
          },
          "metadata": {
            "tags": []
          },
          "execution_count": 51
        }
      ]
    },
    {
      "cell_type": "code",
      "metadata": {
        "colab": {
          "base_uri": "https://localhost:8080/",
          "height": 771
        },
        "id": "D3XAgiLQA3df",
        "outputId": "a6710e05-0a40-466c-b0fc-006049405b3b"
      },
      "source": [
        "# df of bats\n",
        "df_bats = df_species_info[df_species_info['is_bat']]\n",
        "df_bats"
      ],
      "execution_count": 78,
      "outputs": [
        {
          "output_type": "execute_result",
          "data": {
            "text/html": [
              "<div>\n",
              "<style scoped>\n",
              "    .dataframe tbody tr th:only-of-type {\n",
              "        vertical-align: middle;\n",
              "    }\n",
              "\n",
              "    .dataframe tbody tr th {\n",
              "        vertical-align: top;\n",
              "    }\n",
              "\n",
              "    .dataframe thead th {\n",
              "        text-align: right;\n",
              "    }\n",
              "</style>\n",
              "<table border=\"1\" class=\"dataframe\">\n",
              "  <thead>\n",
              "    <tr style=\"text-align: right;\">\n",
              "      <th></th>\n",
              "      <th>category</th>\n",
              "      <th>scientific_name</th>\n",
              "      <th>common_names</th>\n",
              "      <th>conservation_status</th>\n",
              "      <th>is_protected</th>\n",
              "      <th>is_bat</th>\n",
              "    </tr>\n",
              "  </thead>\n",
              "  <tbody>\n",
              "    <tr>\n",
              "      <th>28</th>\n",
              "      <td>Mammal</td>\n",
              "      <td>Corynorhinus rafinesquii</td>\n",
              "      <td>Rafinesque's Big-Eared Bat</td>\n",
              "      <td>No Intervention</td>\n",
              "      <td>False</td>\n",
              "      <td>True</td>\n",
              "    </tr>\n",
              "    <tr>\n",
              "      <th>29</th>\n",
              "      <td>Mammal</td>\n",
              "      <td>Eptesicus fuscus</td>\n",
              "      <td>Big Brown Bat</td>\n",
              "      <td>Species of Concern</td>\n",
              "      <td>True</td>\n",
              "      <td>True</td>\n",
              "    </tr>\n",
              "    <tr>\n",
              "      <th>30</th>\n",
              "      <td>Mammal</td>\n",
              "      <td>Lasionycteris noctivagans</td>\n",
              "      <td>Silver-Haired Bat</td>\n",
              "      <td>Species of Concern</td>\n",
              "      <td>True</td>\n",
              "      <td>True</td>\n",
              "    </tr>\n",
              "    <tr>\n",
              "      <th>31</th>\n",
              "      <td>Mammal</td>\n",
              "      <td>Lasiurus borealis</td>\n",
              "      <td>Eastern Red Bat, Red Bat</td>\n",
              "      <td>No Intervention</td>\n",
              "      <td>False</td>\n",
              "      <td>True</td>\n",
              "    </tr>\n",
              "    <tr>\n",
              "      <th>32</th>\n",
              "      <td>Mammal</td>\n",
              "      <td>Lasiurus cinereus</td>\n",
              "      <td>Hoary Bat</td>\n",
              "      <td>No Intervention</td>\n",
              "      <td>False</td>\n",
              "      <td>True</td>\n",
              "    </tr>\n",
              "    <tr>\n",
              "      <th>36</th>\n",
              "      <td>Mammal</td>\n",
              "      <td>Myotis leibii</td>\n",
              "      <td>Eastern Small-Footed Bat, Eastern Small-Footed...</td>\n",
              "      <td>Species of Concern</td>\n",
              "      <td>True</td>\n",
              "      <td>True</td>\n",
              "    </tr>\n",
              "    <tr>\n",
              "      <th>37</th>\n",
              "      <td>Mammal</td>\n",
              "      <td>Myotis lucifugus</td>\n",
              "      <td>Little Brown Bat, Little Brown Myotis</td>\n",
              "      <td>Species of Concern</td>\n",
              "      <td>True</td>\n",
              "      <td>True</td>\n",
              "    </tr>\n",
              "    <tr>\n",
              "      <th>38</th>\n",
              "      <td>Mammal</td>\n",
              "      <td>Myotis septentrionalis</td>\n",
              "      <td>Northern Long-Eared Bat, Northern Myotis</td>\n",
              "      <td>Threatened</td>\n",
              "      <td>True</td>\n",
              "      <td>True</td>\n",
              "    </tr>\n",
              "    <tr>\n",
              "      <th>39</th>\n",
              "      <td>Mammal</td>\n",
              "      <td>Myotis sodalis</td>\n",
              "      <td>Indiana Bat, Indiana Or Social Myotis</td>\n",
              "      <td>Endangered</td>\n",
              "      <td>True</td>\n",
              "      <td>True</td>\n",
              "    </tr>\n",
              "    <tr>\n",
              "      <th>40</th>\n",
              "      <td>Mammal</td>\n",
              "      <td>Nycticeius humeralis</td>\n",
              "      <td>Evening Bat</td>\n",
              "      <td>No Intervention</td>\n",
              "      <td>False</td>\n",
              "      <td>True</td>\n",
              "    </tr>\n",
              "    <tr>\n",
              "      <th>3033</th>\n",
              "      <td>Mammal</td>\n",
              "      <td>Antrozous pallidus</td>\n",
              "      <td>Pallid Bat, Pallid Bat</td>\n",
              "      <td>Species of Concern</td>\n",
              "      <td>True</td>\n",
              "      <td>True</td>\n",
              "    </tr>\n",
              "    <tr>\n",
              "      <th>3034</th>\n",
              "      <td>Mammal</td>\n",
              "      <td>Corynorhinus townsendii</td>\n",
              "      <td>Mule-Eared Bat, Pacific Townsend's Big-Eared B...</td>\n",
              "      <td>No Intervention</td>\n",
              "      <td>False</td>\n",
              "      <td>True</td>\n",
              "    </tr>\n",
              "    <tr>\n",
              "      <th>3035</th>\n",
              "      <td>Mammal</td>\n",
              "      <td>Eptesicus fuscus</td>\n",
              "      <td>Big Brown Bat, Big Brown Bat</td>\n",
              "      <td>Species of Concern</td>\n",
              "      <td>True</td>\n",
              "      <td>True</td>\n",
              "    </tr>\n",
              "    <tr>\n",
              "      <th>3036</th>\n",
              "      <td>Mammal</td>\n",
              "      <td>Euderma maculatum</td>\n",
              "      <td>Spotted Bat, Spotted Bat</td>\n",
              "      <td>Species of Concern</td>\n",
              "      <td>True</td>\n",
              "      <td>True</td>\n",
              "    </tr>\n",
              "    <tr>\n",
              "      <th>3037</th>\n",
              "      <td>Mammal</td>\n",
              "      <td>Lasionycteris noctivagans</td>\n",
              "      <td>Silver-Haired Bat, Silver-Haired Bat</td>\n",
              "      <td>Species of Concern</td>\n",
              "      <td>True</td>\n",
              "      <td>True</td>\n",
              "    </tr>\n",
              "    <tr>\n",
              "      <th>3038</th>\n",
              "      <td>Mammal</td>\n",
              "      <td>Lasiurus cinereus</td>\n",
              "      <td>Hoary Bat, Hoary Bat</td>\n",
              "      <td>No Intervention</td>\n",
              "      <td>False</td>\n",
              "      <td>True</td>\n",
              "    </tr>\n",
              "    <tr>\n",
              "      <th>3040</th>\n",
              "      <td>Mammal</td>\n",
              "      <td>Myotis ciliolabrum</td>\n",
              "      <td>Small-Footed Myotis, Western Small-Footed Bat,...</td>\n",
              "      <td>No Intervention</td>\n",
              "      <td>False</td>\n",
              "      <td>True</td>\n",
              "    </tr>\n",
              "    <tr>\n",
              "      <th>3042</th>\n",
              "      <td>Mammal</td>\n",
              "      <td>Myotis lucifugus</td>\n",
              "      <td>Little Brown Bat, Little Brown Myotis, Little ...</td>\n",
              "      <td>Species of Concern</td>\n",
              "      <td>True</td>\n",
              "      <td>True</td>\n",
              "    </tr>\n",
              "    <tr>\n",
              "      <th>4461</th>\n",
              "      <td>Mammal</td>\n",
              "      <td>Eumops perotis</td>\n",
              "      <td>Western Mastiff Bat</td>\n",
              "      <td>No Intervention</td>\n",
              "      <td>False</td>\n",
              "      <td>True</td>\n",
              "    </tr>\n",
              "    <tr>\n",
              "      <th>4462</th>\n",
              "      <td>Mammal</td>\n",
              "      <td>Tadarida brasiliensis</td>\n",
              "      <td>Mexican Free-Tailed Bat</td>\n",
              "      <td>No Intervention</td>\n",
              "      <td>False</td>\n",
              "      <td>True</td>\n",
              "    </tr>\n",
              "    <tr>\n",
              "      <th>4463</th>\n",
              "      <td>Mammal</td>\n",
              "      <td>Corynorhinus townsendii</td>\n",
              "      <td>Townsend's Big-Eared Bat</td>\n",
              "      <td>No Intervention</td>\n",
              "      <td>False</td>\n",
              "      <td>True</td>\n",
              "    </tr>\n",
              "    <tr>\n",
              "      <th>4464</th>\n",
              "      <td>Mammal</td>\n",
              "      <td>Lasiurus blossevillii</td>\n",
              "      <td>Western Red Bat</td>\n",
              "      <td>Species of Concern</td>\n",
              "      <td>True</td>\n",
              "      <td>True</td>\n",
              "    </tr>\n",
              "    <tr>\n",
              "      <th>4468</th>\n",
              "      <td>Mammal</td>\n",
              "      <td>Parastrellus hesperus</td>\n",
              "      <td>Canyon Bat</td>\n",
              "      <td>No Intervention</td>\n",
              "      <td>False</td>\n",
              "      <td>True</td>\n",
              "    </tr>\n",
              "  </tbody>\n",
              "</table>\n",
              "</div>"
            ],
            "text/plain": [
              "     category            scientific_name  ... is_protected is_bat\n",
              "28     Mammal   Corynorhinus rafinesquii  ...        False   True\n",
              "29     Mammal           Eptesicus fuscus  ...         True   True\n",
              "30     Mammal  Lasionycteris noctivagans  ...         True   True\n",
              "31     Mammal          Lasiurus borealis  ...        False   True\n",
              "32     Mammal          Lasiurus cinereus  ...        False   True\n",
              "36     Mammal              Myotis leibii  ...         True   True\n",
              "37     Mammal           Myotis lucifugus  ...         True   True\n",
              "38     Mammal     Myotis septentrionalis  ...         True   True\n",
              "39     Mammal             Myotis sodalis  ...         True   True\n",
              "40     Mammal       Nycticeius humeralis  ...        False   True\n",
              "3033   Mammal         Antrozous pallidus  ...         True   True\n",
              "3034   Mammal    Corynorhinus townsendii  ...        False   True\n",
              "3035   Mammal           Eptesicus fuscus  ...         True   True\n",
              "3036   Mammal          Euderma maculatum  ...         True   True\n",
              "3037   Mammal  Lasionycteris noctivagans  ...         True   True\n",
              "3038   Mammal          Lasiurus cinereus  ...        False   True\n",
              "3040   Mammal         Myotis ciliolabrum  ...        False   True\n",
              "3042   Mammal           Myotis lucifugus  ...         True   True\n",
              "4461   Mammal             Eumops perotis  ...        False   True\n",
              "4462   Mammal      Tadarida brasiliensis  ...        False   True\n",
              "4463   Mammal    Corynorhinus townsendii  ...        False   True\n",
              "4464   Mammal      Lasiurus blossevillii  ...         True   True\n",
              "4468   Mammal      Parastrellus hesperus  ...        False   True\n",
              "\n",
              "[23 rows x 6 columns]"
            ]
          },
          "metadata": {
            "tags": []
          },
          "execution_count": 78
        }
      ]
    },
    {
      "cell_type": "code",
      "metadata": {
        "colab": {
          "base_uri": "https://localhost:8080/",
          "height": 206
        },
        "id": "hukmRxVdBxWq",
        "outputId": "8bf95874-fb73-470a-b033-d295ed5b2678"
      },
      "source": [
        "# merge with observations df >> create a df with observations of bats accross the 4 National Parks\n",
        "\n",
        "bat_observations = df_observations.merge(df_bats)\n",
        "bat_observations.head()"
      ],
      "execution_count": 77,
      "outputs": [
        {
          "output_type": "execute_result",
          "data": {
            "text/html": [
              "<div>\n",
              "<style scoped>\n",
              "    .dataframe tbody tr th:only-of-type {\n",
              "        vertical-align: middle;\n",
              "    }\n",
              "\n",
              "    .dataframe tbody tr th {\n",
              "        vertical-align: top;\n",
              "    }\n",
              "\n",
              "    .dataframe thead th {\n",
              "        text-align: right;\n",
              "    }\n",
              "</style>\n",
              "<table border=\"1\" class=\"dataframe\">\n",
              "  <thead>\n",
              "    <tr style=\"text-align: right;\">\n",
              "      <th></th>\n",
              "      <th>scientific_name</th>\n",
              "      <th>park_name</th>\n",
              "      <th>observations</th>\n",
              "      <th>category</th>\n",
              "      <th>common_names</th>\n",
              "      <th>conservation_status</th>\n",
              "      <th>is_protected</th>\n",
              "      <th>is_bat</th>\n",
              "    </tr>\n",
              "  </thead>\n",
              "  <tbody>\n",
              "    <tr>\n",
              "      <th>0</th>\n",
              "      <td>Lasiurus blossevillii</td>\n",
              "      <td>Bryce National Park</td>\n",
              "      <td>113</td>\n",
              "      <td>Mammal</td>\n",
              "      <td>Western Red Bat</td>\n",
              "      <td>Species of Concern</td>\n",
              "      <td>True</td>\n",
              "      <td>True</td>\n",
              "    </tr>\n",
              "    <tr>\n",
              "      <th>1</th>\n",
              "      <td>Lasiurus blossevillii</td>\n",
              "      <td>Great Smoky Mountains National Park</td>\n",
              "      <td>70</td>\n",
              "      <td>Mammal</td>\n",
              "      <td>Western Red Bat</td>\n",
              "      <td>Species of Concern</td>\n",
              "      <td>True</td>\n",
              "      <td>True</td>\n",
              "    </tr>\n",
              "    <tr>\n",
              "      <th>2</th>\n",
              "      <td>Lasiurus blossevillii</td>\n",
              "      <td>Yosemite National Park</td>\n",
              "      <td>123</td>\n",
              "      <td>Mammal</td>\n",
              "      <td>Western Red Bat</td>\n",
              "      <td>Species of Concern</td>\n",
              "      <td>True</td>\n",
              "      <td>True</td>\n",
              "    </tr>\n",
              "    <tr>\n",
              "      <th>3</th>\n",
              "      <td>Lasiurus blossevillii</td>\n",
              "      <td>Yellowstone National Park</td>\n",
              "      <td>221</td>\n",
              "      <td>Mammal</td>\n",
              "      <td>Western Red Bat</td>\n",
              "      <td>Species of Concern</td>\n",
              "      <td>True</td>\n",
              "      <td>True</td>\n",
              "    </tr>\n",
              "    <tr>\n",
              "      <th>4</th>\n",
              "      <td>Corynorhinus rafinesquii</td>\n",
              "      <td>Yosemite National Park</td>\n",
              "      <td>188</td>\n",
              "      <td>Mammal</td>\n",
              "      <td>Rafinesque's Big-Eared Bat</td>\n",
              "      <td>No Intervention</td>\n",
              "      <td>False</td>\n",
              "      <td>True</td>\n",
              "    </tr>\n",
              "  </tbody>\n",
              "</table>\n",
              "</div>"
            ],
            "text/plain": [
              "            scientific_name  ... is_bat\n",
              "0     Lasiurus blossevillii  ...   True\n",
              "1     Lasiurus blossevillii  ...   True\n",
              "2     Lasiurus blossevillii  ...   True\n",
              "3     Lasiurus blossevillii  ...   True\n",
              "4  Corynorhinus rafinesquii  ...   True\n",
              "\n",
              "[5 rows x 8 columns]"
            ]
          },
          "metadata": {
            "tags": []
          },
          "execution_count": 77
        }
      ]
    },
    {
      "cell_type": "code",
      "metadata": {
        "colab": {
          "base_uri": "https://localhost:8080/",
          "height": 175
        },
        "id": "26_KSfOjCzFA",
        "outputId": "5d8cbf6c-498e-4acd-d7e4-463205b1dee5"
      },
      "source": [
        "# bat observations per park\n",
        "bat_observations.groupby(['park_name']).observations.sum().reset_index()"
      ],
      "execution_count": 59,
      "outputs": [
        {
          "output_type": "execute_result",
          "data": {
            "text/html": [
              "<div>\n",
              "<style scoped>\n",
              "    .dataframe tbody tr th:only-of-type {\n",
              "        vertical-align: middle;\n",
              "    }\n",
              "\n",
              "    .dataframe tbody tr th {\n",
              "        vertical-align: top;\n",
              "    }\n",
              "\n",
              "    .dataframe thead th {\n",
              "        text-align: right;\n",
              "    }\n",
              "</style>\n",
              "<table border=\"1\" class=\"dataframe\">\n",
              "  <thead>\n",
              "    <tr style=\"text-align: right;\">\n",
              "      <th></th>\n",
              "      <th>park_name</th>\n",
              "      <th>observations</th>\n",
              "    </tr>\n",
              "  </thead>\n",
              "  <tbody>\n",
              "    <tr>\n",
              "      <th>0</th>\n",
              "      <td>Bryce National Park</td>\n",
              "      <td>3433</td>\n",
              "    </tr>\n",
              "    <tr>\n",
              "      <th>1</th>\n",
              "      <td>Great Smoky Mountains National Park</td>\n",
              "      <td>2411</td>\n",
              "    </tr>\n",
              "    <tr>\n",
              "      <th>2</th>\n",
              "      <td>Yellowstone National Park</td>\n",
              "      <td>8362</td>\n",
              "    </tr>\n",
              "    <tr>\n",
              "      <th>3</th>\n",
              "      <td>Yosemite National Park</td>\n",
              "      <td>4786</td>\n",
              "    </tr>\n",
              "  </tbody>\n",
              "</table>\n",
              "</div>"
            ],
            "text/plain": [
              "                             park_name  observations\n",
              "0                  Bryce National Park          3433\n",
              "1  Great Smoky Mountains National Park          2411\n",
              "2            Yellowstone National Park          8362\n",
              "3               Yosemite National Park          4786"
            ]
          },
          "metadata": {
            "tags": []
          },
          "execution_count": 59
        }
      ]
    },
    {
      "cell_type": "code",
      "metadata": {
        "colab": {
          "base_uri": "https://localhost:8080/",
          "height": 300
        },
        "id": "BopjIYyGDPFF",
        "outputId": "8415f33e-d705-47aa-98b9-ea9fb731bffc"
      },
      "source": [
        "# number of bats protected per National Parks\n",
        "bat_protection_parks = bat_observations.groupby(['park_name', 'is_protected']).observations.sum().reset_index()\n",
        "bat_protection_parks"
      ],
      "execution_count": 65,
      "outputs": [
        {
          "output_type": "execute_result",
          "data": {
            "text/html": [
              "<div>\n",
              "<style scoped>\n",
              "    .dataframe tbody tr th:only-of-type {\n",
              "        vertical-align: middle;\n",
              "    }\n",
              "\n",
              "    .dataframe tbody tr th {\n",
              "        vertical-align: top;\n",
              "    }\n",
              "\n",
              "    .dataframe thead th {\n",
              "        text-align: right;\n",
              "    }\n",
              "</style>\n",
              "<table border=\"1\" class=\"dataframe\">\n",
              "  <thead>\n",
              "    <tr style=\"text-align: right;\">\n",
              "      <th></th>\n",
              "      <th>park_name</th>\n",
              "      <th>is_protected</th>\n",
              "      <th>observations</th>\n",
              "    </tr>\n",
              "  </thead>\n",
              "  <tbody>\n",
              "    <tr>\n",
              "      <th>0</th>\n",
              "      <td>Bryce National Park</td>\n",
              "      <td>False</td>\n",
              "      <td>1596</td>\n",
              "    </tr>\n",
              "    <tr>\n",
              "      <th>1</th>\n",
              "      <td>Bryce National Park</td>\n",
              "      <td>True</td>\n",
              "      <td>1837</td>\n",
              "    </tr>\n",
              "    <tr>\n",
              "      <th>2</th>\n",
              "      <td>Great Smoky Mountains National Park</td>\n",
              "      <td>False</td>\n",
              "      <td>1299</td>\n",
              "    </tr>\n",
              "    <tr>\n",
              "      <th>3</th>\n",
              "      <td>Great Smoky Mountains National Park</td>\n",
              "      <td>True</td>\n",
              "      <td>1112</td>\n",
              "    </tr>\n",
              "    <tr>\n",
              "      <th>4</th>\n",
              "      <td>Yellowstone National Park</td>\n",
              "      <td>False</td>\n",
              "      <td>4044</td>\n",
              "    </tr>\n",
              "    <tr>\n",
              "      <th>5</th>\n",
              "      <td>Yellowstone National Park</td>\n",
              "      <td>True</td>\n",
              "      <td>4318</td>\n",
              "    </tr>\n",
              "    <tr>\n",
              "      <th>6</th>\n",
              "      <td>Yosemite National Park</td>\n",
              "      <td>False</td>\n",
              "      <td>2345</td>\n",
              "    </tr>\n",
              "    <tr>\n",
              "      <th>7</th>\n",
              "      <td>Yosemite National Park</td>\n",
              "      <td>True</td>\n",
              "      <td>2441</td>\n",
              "    </tr>\n",
              "  </tbody>\n",
              "</table>\n",
              "</div>"
            ],
            "text/plain": [
              "                             park_name  is_protected  observations\n",
              "0                  Bryce National Park         False          1596\n",
              "1                  Bryce National Park          True          1837\n",
              "2  Great Smoky Mountains National Park         False          1299\n",
              "3  Great Smoky Mountains National Park          True          1112\n",
              "4            Yellowstone National Park         False          4044\n",
              "5            Yellowstone National Park          True          4318\n",
              "6               Yosemite National Park         False          2345\n",
              "7               Yosemite National Park          True          2441"
            ]
          },
          "metadata": {
            "tags": []
          },
          "execution_count": 65
        }
      ]
    },
    {
      "cell_type": "code",
      "metadata": {
        "colab": {
          "base_uri": "https://localhost:8080/",
          "height": 175
        },
        "id": "mwX6CkQeEegu",
        "outputId": "6f141d34-2aa2-4ca1-e165-84d4671d214b"
      },
      "source": [
        "# pivot table\n",
        "bat_pivot = bat_protection_parks.pivot(\n",
        "    columns='is_protected',\n",
        "    index='park_name',\n",
        "    values='observations'\n",
        ").reset_index()\n",
        "\n",
        "bat_pivot.columns = ['park_name', 'not_protected', 'protected']\n",
        "bat_pivot"
      ],
      "execution_count": 69,
      "outputs": [
        {
          "output_type": "execute_result",
          "data": {
            "text/html": [
              "<div>\n",
              "<style scoped>\n",
              "    .dataframe tbody tr th:only-of-type {\n",
              "        vertical-align: middle;\n",
              "    }\n",
              "\n",
              "    .dataframe tbody tr th {\n",
              "        vertical-align: top;\n",
              "    }\n",
              "\n",
              "    .dataframe thead th {\n",
              "        text-align: right;\n",
              "    }\n",
              "</style>\n",
              "<table border=\"1\" class=\"dataframe\">\n",
              "  <thead>\n",
              "    <tr style=\"text-align: right;\">\n",
              "      <th></th>\n",
              "      <th>park_name</th>\n",
              "      <th>not_protected</th>\n",
              "      <th>protected</th>\n",
              "    </tr>\n",
              "  </thead>\n",
              "  <tbody>\n",
              "    <tr>\n",
              "      <th>0</th>\n",
              "      <td>Bryce National Park</td>\n",
              "      <td>1596</td>\n",
              "      <td>1837</td>\n",
              "    </tr>\n",
              "    <tr>\n",
              "      <th>1</th>\n",
              "      <td>Great Smoky Mountains National Park</td>\n",
              "      <td>1299</td>\n",
              "      <td>1112</td>\n",
              "    </tr>\n",
              "    <tr>\n",
              "      <th>2</th>\n",
              "      <td>Yellowstone National Park</td>\n",
              "      <td>4044</td>\n",
              "      <td>4318</td>\n",
              "    </tr>\n",
              "    <tr>\n",
              "      <th>3</th>\n",
              "      <td>Yosemite National Park</td>\n",
              "      <td>2345</td>\n",
              "      <td>2441</td>\n",
              "    </tr>\n",
              "  </tbody>\n",
              "</table>\n",
              "</div>"
            ],
            "text/plain": [
              "                             park_name  not_protected  protected\n",
              "0                  Bryce National Park           1596       1837\n",
              "1  Great Smoky Mountains National Park           1299       1112\n",
              "2            Yellowstone National Park           4044       4318\n",
              "3               Yosemite National Park           2345       2441"
            ]
          },
          "metadata": {
            "tags": []
          },
          "execution_count": 69
        }
      ]
    },
    {
      "cell_type": "code",
      "metadata": {
        "colab": {
          "base_uri": "https://localhost:8080/",
          "height": 175
        },
        "id": "IIfPkjdWFVvK",
        "outputId": "3008ff1b-9099-458a-aec1-e818608a2428"
      },
      "source": [
        "# add '%_protected' column\n",
        "bat_pivot['%_protected'] = np.round(bat_pivot.protected / \\\n",
        "                                    (bat_pivot.not_protected + bat_pivot.protected), 3) * 100\n",
        "\n",
        "bat_pivot"
      ],
      "execution_count": 71,
      "outputs": [
        {
          "output_type": "execute_result",
          "data": {
            "text/html": [
              "<div>\n",
              "<style scoped>\n",
              "    .dataframe tbody tr th:only-of-type {\n",
              "        vertical-align: middle;\n",
              "    }\n",
              "\n",
              "    .dataframe tbody tr th {\n",
              "        vertical-align: top;\n",
              "    }\n",
              "\n",
              "    .dataframe thead th {\n",
              "        text-align: right;\n",
              "    }\n",
              "</style>\n",
              "<table border=\"1\" class=\"dataframe\">\n",
              "  <thead>\n",
              "    <tr style=\"text-align: right;\">\n",
              "      <th></th>\n",
              "      <th>park_name</th>\n",
              "      <th>not_protected</th>\n",
              "      <th>protected</th>\n",
              "      <th>%_protected</th>\n",
              "    </tr>\n",
              "  </thead>\n",
              "  <tbody>\n",
              "    <tr>\n",
              "      <th>0</th>\n",
              "      <td>Bryce National Park</td>\n",
              "      <td>1596</td>\n",
              "      <td>1837</td>\n",
              "      <td>53.5</td>\n",
              "    </tr>\n",
              "    <tr>\n",
              "      <th>1</th>\n",
              "      <td>Great Smoky Mountains National Park</td>\n",
              "      <td>1299</td>\n",
              "      <td>1112</td>\n",
              "      <td>46.1</td>\n",
              "    </tr>\n",
              "    <tr>\n",
              "      <th>2</th>\n",
              "      <td>Yellowstone National Park</td>\n",
              "      <td>4044</td>\n",
              "      <td>4318</td>\n",
              "      <td>51.6</td>\n",
              "    </tr>\n",
              "    <tr>\n",
              "      <th>3</th>\n",
              "      <td>Yosemite National Park</td>\n",
              "      <td>2345</td>\n",
              "      <td>2441</td>\n",
              "      <td>51.0</td>\n",
              "    </tr>\n",
              "  </tbody>\n",
              "</table>\n",
              "</div>"
            ],
            "text/plain": [
              "                             park_name  not_protected  protected  %_protected\n",
              "0                  Bryce National Park           1596       1837         53.5\n",
              "1  Great Smoky Mountains National Park           1299       1112         46.1\n",
              "2            Yellowstone National Park           4044       4318         51.6\n",
              "3               Yosemite National Park           2345       2441         51.0"
            ]
          },
          "metadata": {
            "tags": []
          },
          "execution_count": 71
        }
      ]
    },
    {
      "cell_type": "code",
      "metadata": {
        "colab": {
          "base_uri": "https://localhost:8080/",
          "height": 410
        },
        "id": "wvY6ylzhF6GO",
        "outputId": "660c8553-1af1-4598-d88f-dbee224e8223"
      },
      "source": [
        "# barplot of bat population in US National Parks\n",
        "\n",
        "f, ax = plt.subplots(figsize=(20, 6))\n",
        "\n",
        "sns.barplot(x='park_name', y='observations', data=bat_protection_parks, hue='is_protected')\n",
        "\n",
        "plt.xlabel('National Park')\n",
        "plt.ylabel('Observations')\n",
        "plt.title('Observations of Bats per Week', pad=12)\n",
        "plt.show()"
      ],
      "execution_count": 76,
      "outputs": [
        {
          "output_type": "display_data",
          "data": {
            "image/png": "[encoded data removed]",
            "text/plain": [
              "<Figure size 1440x432 with 1 Axes>"
            ]
          },
          "metadata": {
            "tags": [],
            "needs_background": "light"
          }
        }
      ]
    }
  ]
}