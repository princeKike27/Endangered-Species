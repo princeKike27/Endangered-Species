{
  "nbformat": 4,
  "nbformat_minor": 0,
  "metadata": {
    "kernelspec": {
      "display_name": "Python 3",
      "language": "python",
      "name": "python3"
    },
    "language_info": {
      "codemirror_mode": {
        "name": "ipython",
        "version": 3
      },
      "file_extension": ".py",
      "mimetype": "text/x-python",
      "name": "python",
      "nbconvert_exporter": "python",
      "pygments_lexer": "ipython3",
      "version": "3.7.6"
    },
    "colab": {
      "name": "biodiversity.ipynb",
      "provenance": [],
      "collapsed_sections": [],
      "include_colab_link": true
    }
  },
  "cells": [
    {
      "cell_type": "markdown",
      "metadata": {
        "id": "view-in-github",
        "colab_type": "text"
      },
      "source": [
        "<a href=\"https://colab.research.google.com/github/princeKike27/Endangered-Species-in-US-National-Parks/blob/main/biodiversity.ipynb\" target=\"_parent\"><img src=\"https://colab.research.google.com/assets/colab-badge.svg\" alt=\"Open In Colab\"/></a>"
      ]
    },
    {
      "cell_type": "markdown",
      "metadata": {
        "id": "cMvwnlZhazn8"
      },
      "source": [
        "# Endangered Species in US National Parks\n",
        "\n",
        "For this project I will analyze data from the National Parks Service about endangered species in different parks. In that sense, I will identify if there are any patterns in the types of species that become endangered. "
      ]
    },
    {
      "cell_type": "code",
      "metadata": {
        "id": "KEhX3jDQcMTr"
      },
      "source": [
        "# import modules\n",
        "\n",
        "import pandas as pd\n",
        "import numpy as np\n",
        "import matplotlib.pyplot as plt\n",
        "import seaborn as sns"
      ],
      "execution_count": 1,
      "outputs": []
    },
    {
      "cell_type": "markdown",
      "metadata": {
        "id": "-PspEniqjp2N"
      },
      "source": [
        "# Observations DataSet"
      ]
    },
    {
      "cell_type": "code",
      "metadata": {
        "colab": {
          "base_uri": "https://localhost:8080/",
          "height": 206
        },
        "id": "o8fmVH-PeJNS",
        "outputId": "75f4109e-fcf7-4970-8f42-f807a9777f95"
      },
      "source": [
        "# load observation dataset\n",
        "df_observations = pd.read_csv('https://raw.githubusercontent.com/princeKike27/Endangered-Species-in-US-National-Parks/main/observations.csv')\n",
        "df_observations.head()\n"
      ],
      "execution_count": 3,
      "outputs": [
        {
          "output_type": "execute_result",
          "data": {
            "text/html": [
              "<div>\n",
              "<style scoped>\n",
              "    .dataframe tbody tr th:only-of-type {\n",
              "        vertical-align: middle;\n",
              "    }\n",
              "\n",
              "    .dataframe tbody tr th {\n",
              "        vertical-align: top;\n",
              "    }\n",
              "\n",
              "    .dataframe thead th {\n",
              "        text-align: right;\n",
              "    }\n",
              "</style>\n",
              "<table border=\"1\" class=\"dataframe\">\n",
              "  <thead>\n",
              "    <tr style=\"text-align: right;\">\n",
              "      <th></th>\n",
              "      <th>scientific_name</th>\n",
              "      <th>park_name</th>\n",
              "      <th>observations</th>\n",
              "    </tr>\n",
              "  </thead>\n",
              "  <tbody>\n",
              "    <tr>\n",
              "      <th>0</th>\n",
              "      <td>Vicia benghalensis</td>\n",
              "      <td>Great Smoky Mountains National Park</td>\n",
              "      <td>68</td>\n",
              "    </tr>\n",
              "    <tr>\n",
              "      <th>1</th>\n",
              "      <td>Neovison vison</td>\n",
              "      <td>Great Smoky Mountains National Park</td>\n",
              "      <td>77</td>\n",
              "    </tr>\n",
              "    <tr>\n",
              "      <th>2</th>\n",
              "      <td>Prunus subcordata</td>\n",
              "      <td>Yosemite National Park</td>\n",
              "      <td>138</td>\n",
              "    </tr>\n",
              "    <tr>\n",
              "      <th>3</th>\n",
              "      <td>Abutilon theophrasti</td>\n",
              "      <td>Bryce National Park</td>\n",
              "      <td>84</td>\n",
              "    </tr>\n",
              "    <tr>\n",
              "      <th>4</th>\n",
              "      <td>Githopsis specularioides</td>\n",
              "      <td>Great Smoky Mountains National Park</td>\n",
              "      <td>85</td>\n",
              "    </tr>\n",
              "  </tbody>\n",
              "</table>\n",
              "</div>"
            ],
            "text/plain": [
              "            scientific_name                            park_name  observations\n",
              "0        Vicia benghalensis  Great Smoky Mountains National Park            68\n",
              "1            Neovison vison  Great Smoky Mountains National Park            77\n",
              "2         Prunus subcordata               Yosemite National Park           138\n",
              "3      Abutilon theophrasti                  Bryce National Park            84\n",
              "4  Githopsis specularioides  Great Smoky Mountains National Park            85"
            ]
          },
          "metadata": {
            "tags": []
          },
          "execution_count": 3
        }
      ]
    },
    {
      "cell_type": "code",
      "metadata": {
        "colab": {
          "base_uri": "https://localhost:8080/"
        },
        "id": "LAIrKfVsixJB",
        "outputId": "f7eaff5a-6e77-4de6-f71f-8be3eef9a227"
      },
      "source": [
        "# df shape\n",
        "df_observations.shape"
      ],
      "execution_count": 15,
      "outputs": [
        {
          "output_type": "execute_result",
          "data": {
            "text/plain": [
              "(23296, 3)"
            ]
          },
          "metadata": {
            "tags": []
          },
          "execution_count": 15
        }
      ]
    },
    {
      "cell_type": "code",
      "metadata": {
        "colab": {
          "base_uri": "https://localhost:8080/"
        },
        "id": "Eyq0zRb5hxCm",
        "outputId": "a41b717f-e0f0-4fab-f887-beda1eea7506"
      },
      "source": [
        "# check column types\n",
        "df_observations.dtypes"
      ],
      "execution_count": 9,
      "outputs": [
        {
          "output_type": "execute_result",
          "data": {
            "text/plain": [
              "scientific_name    object\n",
              "park_name          object\n",
              "observations        int64\n",
              "dtype: object"
            ]
          },
          "metadata": {
            "tags": []
          },
          "execution_count": 9
        }
      ]
    },
    {
      "cell_type": "code",
      "metadata": {
        "colab": {
          "base_uri": "https://localhost:8080/",
          "height": 300
        },
        "id": "S-EfWYJVoMrw",
        "outputId": "6f4570d5-3a4c-48c0-9b7a-7f31999f8811"
      },
      "source": [
        "# descriptive statistics of observations column\n",
        "df_observations.describe()"
      ],
      "execution_count": 44,
      "outputs": [
        {
          "output_type": "execute_result",
          "data": {
            "text/html": [
              "<div>\n",
              "<style scoped>\n",
              "    .dataframe tbody tr th:only-of-type {\n",
              "        vertical-align: middle;\n",
              "    }\n",
              "\n",
              "    .dataframe tbody tr th {\n",
              "        vertical-align: top;\n",
              "    }\n",
              "\n",
              "    .dataframe thead th {\n",
              "        text-align: right;\n",
              "    }\n",
              "</style>\n",
              "<table border=\"1\" class=\"dataframe\">\n",
              "  <thead>\n",
              "    <tr style=\"text-align: right;\">\n",
              "      <th></th>\n",
              "      <th>observations</th>\n",
              "    </tr>\n",
              "  </thead>\n",
              "  <tbody>\n",
              "    <tr>\n",
              "      <th>count</th>\n",
              "      <td>23296.000000</td>\n",
              "    </tr>\n",
              "    <tr>\n",
              "      <th>mean</th>\n",
              "      <td>142.287904</td>\n",
              "    </tr>\n",
              "    <tr>\n",
              "      <th>std</th>\n",
              "      <td>69.890532</td>\n",
              "    </tr>\n",
              "    <tr>\n",
              "      <th>min</th>\n",
              "      <td>9.000000</td>\n",
              "    </tr>\n",
              "    <tr>\n",
              "      <th>25%</th>\n",
              "      <td>86.000000</td>\n",
              "    </tr>\n",
              "    <tr>\n",
              "      <th>50%</th>\n",
              "      <td>124.000000</td>\n",
              "    </tr>\n",
              "    <tr>\n",
              "      <th>75%</th>\n",
              "      <td>195.000000</td>\n",
              "    </tr>\n",
              "    <tr>\n",
              "      <th>max</th>\n",
              "      <td>321.000000</td>\n",
              "    </tr>\n",
              "  </tbody>\n",
              "</table>\n",
              "</div>"
            ],
            "text/plain": [
              "       observations\n",
              "count  23296.000000\n",
              "mean     142.287904\n",
              "std       69.890532\n",
              "min        9.000000\n",
              "25%       86.000000\n",
              "50%      124.000000\n",
              "75%      195.000000\n",
              "max      321.000000"
            ]
          },
          "metadata": {
            "tags": []
          },
          "execution_count": 44
        }
      ]
    },
    {
      "cell_type": "code",
      "metadata": {
        "colab": {
          "base_uri": "https://localhost:8080/",
          "height": 491
        },
        "id": "1cwxW0Z_h4BR",
        "outputId": "601e02ed-21d4-4c11-8dba-945e15c0f1c6"
      },
      "source": [
        "# check for missing values\n",
        "import missingno as msg\n",
        "\n",
        "msg.matrix(df_observations, figsize=(30,10))"
      ],
      "execution_count": 10,
      "outputs": [
        {
          "output_type": "execute_result",
          "data": {
            "text/plain": [
              "<matplotlib.axes._subplots.AxesSubplot at 0x7ff6deab4510>"
            ]
          },
          "metadata": {
            "tags": []
          },
          "execution_count": 10
        },
        {
          "output_type": "display_data",
          "data": {
            "image/png": "[encoded data removed]",
            "text/plain": [
              "<Figure size 2160x720 with 2 Axes>"
            ]
          },
          "metadata": {
            "tags": [],
            "needs_background": "light"
          }
        }
      ]
    },
    {
      "cell_type": "code",
      "metadata": {
        "colab": {
          "base_uri": "https://localhost:8080/"
        },
        "id": "gLDig4POiRW4",
        "outputId": "0be011f3-6d40-4de2-afee-be7df86de229"
      },
      "source": [
        "# check unique values of park_name\n",
        "parks = list(df_observations['park_name'].unique())\n",
        "parks"
      ],
      "execution_count": 22,
      "outputs": [
        {
          "output_type": "execute_result",
          "data": {
            "text/plain": [
              "['Great Smoky Mountains National Park',\n",
              " 'Yosemite National Park',\n",
              " 'Bryce National Park',\n",
              " 'Yellowstone National Park']"
            ]
          },
          "metadata": {
            "tags": []
          },
          "execution_count": 22
        }
      ]
    },
    {
      "cell_type": "code",
      "metadata": {
        "colab": {
          "base_uri": "https://localhost:8080/"
        },
        "id": "wtumN8lXijJn",
        "outputId": "3094a5fd-3e02-49e6-d7af-cce11a56ef10"
      },
      "source": [
        "# check unique values of scientific_name\n",
        "print(df_observations['scientific_name'].unique())\n",
        "print(f\"Unique Species: {len(df_observations['scientific_name'].unique())}\")"
      ],
      "execution_count": 21,
      "outputs": [
        {
          "output_type": "stream",
          "text": [
            "['Vicia benghalensis' 'Neovison vison' 'Prunus subcordata' ...\n",
            " 'Ranunculus hebecarpus' 'Gulo gulo' 'Dichanthelium depauperatum']\n",
            "Unique Species: 5541\n"
          ],
          "name": "stdout"
        }
      ]
    },
    {
      "cell_type": "code",
      "metadata": {
        "colab": {
          "base_uri": "https://localhost:8080/",
          "height": 781
        },
        "id": "FqPUypU2kCGJ",
        "outputId": "d9d437be-44ae-47f0-99ed-988930b95a3b"
      },
      "source": [
        "# Histogram of Observations per National Park\n",
        "\n",
        "# variable to store plot counter\n",
        "n = 1\n",
        "\n",
        "fig = plt.figure(figsize=(25, 16))\n",
        "\n",
        "# plot histograms\n",
        "for el in parks:\n",
        "  ax = plt.subplot(2, 2, n)\n",
        "  # store information of park\n",
        "  df_park = df_observations[df_observations['park_name'] == el]\n",
        "\n",
        "  plt.hist(df_park['observations'], bins=15, alpha=0.5)\n",
        "  plt.axvline(df_park['observations'].mean(), linestyle='dashed', linewidth=2, color='red', label='Mean')\n",
        "  plt.axvline(df_park['observations'].median(), linestyle='dashed', linewidth=2, color='green', label='Median')\n",
        "\n",
        "  plt.legend()\n",
        "  plt.title(f'Species Observations in {el}', fontsize=14, pad=12)\n",
        "  n += 1\n",
        "\n",
        "plt.show()\n",
        "\n",
        "  \n"
      ],
      "execution_count": 46,
      "outputs": [
        {
          "output_type": "display_data",
          "data": {
            "image/png": "[encoded data removed]",
            "text/plain": [
              "<Figure size 1800x1152 with 4 Axes>"
            ]
          },
          "metadata": {
            "tags": [],
            "needs_background": "light"
          }
        }
      ]
    },
    {
      "cell_type": "code",
      "metadata": {
        "id": "c5cPqLyToz9j"
      },
      "source": [
        "# boxplot of observations per species\n",
        "\n"
      ],
      "execution_count": null,
      "outputs": []
    },
    {
      "cell_type": "markdown",
      "metadata": {
        "id": "VI_NBRedjtmU"
      },
      "source": [
        "# Species_Info Dataset"
      ]
    },
    {
      "cell_type": "code",
      "metadata": {
        "colab": {
          "base_uri": "https://localhost:8080/",
          "height": 363
        },
        "id": "Oml9dgmYfAWx",
        "outputId": "cd5a2ac6-afde-403c-a10e-0627f802e24d"
      },
      "source": [
        "# load specie_info dataset\n",
        "df_species_info = pd.read_csv('https://raw.githubusercontent.com/princeKike27/Endangered-Species-in-US-National-Parks/main/species_info.csv')\n",
        "df_species_info.head(10)"
      ],
      "execution_count": 8,
      "outputs": [
        {
          "output_type": "execute_result",
          "data": {
            "text/html": [
              "<div>\n",
              "<style scoped>\n",
              "    .dataframe tbody tr th:only-of-type {\n",
              "        vertical-align: middle;\n",
              "    }\n",
              "\n",
              "    .dataframe tbody tr th {\n",
              "        vertical-align: top;\n",
              "    }\n",
              "\n",
              "    .dataframe thead th {\n",
              "        text-align: right;\n",
              "    }\n",
              "</style>\n",
              "<table border=\"1\" class=\"dataframe\">\n",
              "  <thead>\n",
              "    <tr style=\"text-align: right;\">\n",
              "      <th></th>\n",
              "      <th>category</th>\n",
              "      <th>scientific_name</th>\n",
              "      <th>common_names</th>\n",
              "      <th>conservation_status</th>\n",
              "    </tr>\n",
              "  </thead>\n",
              "  <tbody>\n",
              "    <tr>\n",
              "      <th>0</th>\n",
              "      <td>Mammal</td>\n",
              "      <td>Clethrionomys gapperi gapperi</td>\n",
              "      <td>Gapper's Red-Backed Vole</td>\n",
              "      <td>NaN</td>\n",
              "    </tr>\n",
              "    <tr>\n",
              "      <th>1</th>\n",
              "      <td>Mammal</td>\n",
              "      <td>Bos bison</td>\n",
              "      <td>American Bison, Bison</td>\n",
              "      <td>NaN</td>\n",
              "    </tr>\n",
              "    <tr>\n",
              "      <th>2</th>\n",
              "      <td>Mammal</td>\n",
              "      <td>Bos taurus</td>\n",
              "      <td>Aurochs, Aurochs, Domestic Cattle (Feral), Dom...</td>\n",
              "      <td>NaN</td>\n",
              "    </tr>\n",
              "    <tr>\n",
              "      <th>3</th>\n",
              "      <td>Mammal</td>\n",
              "      <td>Ovis aries</td>\n",
              "      <td>Domestic Sheep, Mouflon, Red Sheep, Sheep (Feral)</td>\n",
              "      <td>NaN</td>\n",
              "    </tr>\n",
              "    <tr>\n",
              "      <th>4</th>\n",
              "      <td>Mammal</td>\n",
              "      <td>Cervus elaphus</td>\n",
              "      <td>Wapiti Or Elk</td>\n",
              "      <td>NaN</td>\n",
              "    </tr>\n",
              "    <tr>\n",
              "      <th>5</th>\n",
              "      <td>Mammal</td>\n",
              "      <td>Odocoileus virginianus</td>\n",
              "      <td>White-Tailed Deer</td>\n",
              "      <td>NaN</td>\n",
              "    </tr>\n",
              "    <tr>\n",
              "      <th>6</th>\n",
              "      <td>Mammal</td>\n",
              "      <td>Sus scrofa</td>\n",
              "      <td>Feral Hog, Wild Pig</td>\n",
              "      <td>NaN</td>\n",
              "    </tr>\n",
              "    <tr>\n",
              "      <th>7</th>\n",
              "      <td>Mammal</td>\n",
              "      <td>Canis latrans</td>\n",
              "      <td>Coyote</td>\n",
              "      <td>Species of Concern</td>\n",
              "    </tr>\n",
              "    <tr>\n",
              "      <th>8</th>\n",
              "      <td>Mammal</td>\n",
              "      <td>Canis lupus</td>\n",
              "      <td>Gray Wolf</td>\n",
              "      <td>Endangered</td>\n",
              "    </tr>\n",
              "    <tr>\n",
              "      <th>9</th>\n",
              "      <td>Mammal</td>\n",
              "      <td>Canis rufus</td>\n",
              "      <td>Red Wolf</td>\n",
              "      <td>Endangered</td>\n",
              "    </tr>\n",
              "  </tbody>\n",
              "</table>\n",
              "</div>"
            ],
            "text/plain": [
              "  category  ... conservation_status\n",
              "0   Mammal  ...                 NaN\n",
              "1   Mammal  ...                 NaN\n",
              "2   Mammal  ...                 NaN\n",
              "3   Mammal  ...                 NaN\n",
              "4   Mammal  ...                 NaN\n",
              "5   Mammal  ...                 NaN\n",
              "6   Mammal  ...                 NaN\n",
              "7   Mammal  ...  Species of Concern\n",
              "8   Mammal  ...          Endangered\n",
              "9   Mammal  ...          Endangered\n",
              "\n",
              "[10 rows x 4 columns]"
            ]
          },
          "metadata": {
            "tags": []
          },
          "execution_count": 8
        }
      ]
    }
  ]
}